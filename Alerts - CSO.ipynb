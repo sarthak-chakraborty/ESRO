{
 "cells": [
  {
   "cell_type": "code",
   "execution_count": 5,
   "id": "307327fa-1f10-48a6-bae6-abfd50b5bdd4",
   "metadata": {},
   "outputs": [],
   "source": [
    "import pandas as pd\n",
    "from datetime import datetime\n",
    "from copy import deepcopy\n",
    "import json"
   ]
  },
  {
   "cell_type": "code",
   "execution_count": 6,
   "id": "d1b99c7b-bd74-4e7f-8b6a-a1c4415123a1",
   "metadata": {},
   "outputs": [],
   "source": [
    "## getting alerts in timeframe corresponding to some occurred CSO\n",
    "df_alerts = pd.read_csv('df_alerts_all.csv')\n",
    "df_alerts_sorted = deepcopy(df_alerts)\n",
    "df_alerts_sorted = df_alerts_sorted.sort_values(by = 'timestamp')\n",
    "timelist_alerts = list(df_alerts_sorted['timestamp'])\n",
    "namelist_alerts = list(df_alerts_sorted['alertname'])\n",
    "\n",
    "def get_alerts(input_time, num):                                           # the input time and the number of different recorded past alert times, we want alerts from\n",
    "    lst = []\n",
    "    low = 0\n",
    "    high = len(timelist_alerts)\n",
    "    while(low<high):\n",
    "        if(timelist_alerts[int((low+high)/2)] > input_time):\n",
    "            high = int((low+high)/2)\n",
    "        else:\n",
    "            low = int((low+high)/2)+1\n",
    "    ind = low-1\n",
    "    #num = 3\n",
    "    j = 0\n",
    "    #print(low)\n",
    "    while(j < low-1 and num>0):\n",
    "        lst.append(namelist_alerts[low - 1 -j])\n",
    "        while(j<low-1 and timelist_alerts[low-1-j] == timelist_alerts[low-2-j]):\n",
    "            lst.append(namelist_alerts[low-2-j])\n",
    "            j = j+1\n",
    "        j = j+1\n",
    "        num = num-1\n",
    "    return list(set(lst))"
   ]
  },
  {
   "cell_type": "code",
   "execution_count": null,
   "id": "0ddc1e68-71d5-49dc-a774-f04e45d100d7",
   "metadata": {},
   "outputs": [],
   "source": [
    "alerts_ = pd.read_csv('/sensei-fs/tenants/Sensei-AdobeResearchTeam/share-QA-reliability/sarchakr/Knowledge Graph/datasets/CSO_autolaunched_alerts.csv')"
   ]
  },
  {
   "cell_type": "code",
   "execution_count": 9,
   "id": "f822b3ce-dd0f-4d19-a0c9-0e938e83fbb2",
   "metadata": {},
   "outputs": [],
   "source": [
    "cso_num = ['16624','16280', '15934','15572']    "
   ]
  },
  {
   "cell_type": "code",
   "execution_count": 18,
   "id": "e7056e98-8bfa-439f-8085-33449e016dfc",
   "metadata": {},
   "outputs": [],
   "source": [
    "input_times = ['2022-01-31 16:32:01+00:00', '2021-12-15 07:15:00+00:00', '2021-11-15 06:22:00+00:00', '2021-09-26 18:44:02+00']"
   ]
  },
  {
   "cell_type": "code",
   "execution_count": 21,
   "id": "addf5aea-54cb-4300-a62c-bae1c109b515",
   "metadata": {
    "collapsed": true,
    "jupyter": {
     "outputs_hidden": true
    },
    "tags": []
   },
   "outputs": [
    {
     "name": "stdout",
     "output_type": "stream",
     "text": [
      "['high_qpid_queuesize_filesandagreementreadycheckprocessorq_alert', 'high_qpid_queuesize_rasterpdftaskresultq_alert', 'high_qpid_queuesize_filesandagreementreadycheckprocessorq_cso_alert', 'hubble_process_down_alert', 'quartz_queue_stalled_by_age_alert', 'high_qpid_queuesize_failed_antivirustaskresultq_alert', 'high_qpid_queuesize_reportagreementpropagationq_alert', 'high_qpid_queuesize_workflowsignatureq_alert', 'high_qpid_oldestmessageage_reliablecallbackeventq_alert', 'Splunk Alert: SRE EDA - Java OutOfMemory', 'memcached_diagnostic_failing_alert', 'db_instance_load_average_5minutes_alert', 'quartz_queue_stalled_by_state_alert', 'Splunk Alert: SRE - ClamAV Consumer Shut Down', 'high_qpid_oldestmessageage_wordformifytaskworkq_alert', 'high_qpid_queuesize_agreementeventpropagationq_cso_alert', 'high_qpid_queuesize_agreementeventpropagationq_alert']\n",
      "============================================================================================================\n",
      "['tungsten_max_latency_tungsten_etl_standalone_replication_alert', 'high_qpid_queuesize_failed_antivirustaskresultq_alert', 'Splunk Alert: SRE - JMS Send Failure', 'quartz_scheduler_down_alert', 'db_instance_load_average_5minutes_alert', 'high_qpid_queuesize_failed_reliablecallbackeventq_alert']\n",
      "============================================================================================================\n",
      "['tungsten_max_latency_replication_alert', 'high_qpid_oldestmessageage_workflowsignatureq_alert', 'instance_disk_volume_usage_high_alert']\n",
      "============================================================================================================\n",
      "[]\n",
      "============================================================================================================\n"
     ]
    }
   ],
   "source": [
    "for input_time in input_times:\n",
    "    print(get_alerts(input_time, 20))\n",
    "    print('============================================================================================================')"
   ]
  },
  {
   "cell_type": "raw",
   "id": "99ef3bec-b0f1-4750-8c4e-39e5faa31c14",
   "metadata": {},
   "source": [
    "timelist_alerts[0]"
   ]
  },
  {
   "cell_type": "code",
   "execution_count": 15,
   "id": "ccad07c7-ed82-4666-8a49-1b13543c559b",
   "metadata": {},
   "outputs": [
    {
     "data": {
      "text/plain": [
       "[2]"
      ]
     },
     "execution_count": 15,
     "metadata": {},
     "output_type": "execute_result"
    }
   ],
   "source": [
    "alerts_.index[alerts_['cso_number'] == 16624].tolist()"
   ]
  },
  {
   "cell_type": "code",
   "execution_count": null,
   "id": "7f21d581-d5bb-4af2-852a-412be004429e",
   "metadata": {},
   "outputs": [],
   "source": [
    "alerts_time = [alerts_['start_time'][i] for i in ]"
   ]
  },
  {
   "cell_type": "code",
   "execution_count": 9,
   "id": "d65b59c2-a3e3-4aad-b18e-933138e04fdf",
   "metadata": {},
   "outputs": [],
   "source": [
    "## tryin to retrieve the CSOs that mention some alert\n",
    "df_cso_xlsx = pd.read_excel('/sensei-fs/tenants/Sensei-AdobeResearchTeam/share-QA-reliability/sarchakr/Knowledge Graph/datasets/CSO_info.xlsx')\n",
    "df_cso_num = df_cso_xlsx['CSO#'].to_numpy()\n",
    "indices = [i for i,x in enumerate(df_cso_xlsx['Autolaunched']) if x == 'Yes']\n",
    "cso_autolaunched = [df_cso_num[i] for i in indices]\n",
    "\n",
    "json_file = 'sensei-fs/tenants/Sensei-AdobeResearchTeam/share-QA-reliability/sarchakr/Knowledge Graph/datasets/CSO_all_scraped.json'\n",
    "# extracting alert info from CSO data\n",
    "with open(json_file, 'r') as f:\n",
    "    cso_json = json.load(f)\n",
    "for cso in cso_autolaunched:\n",
    "    \n"
   ]
  },
  {
   "cell_type": "code",
   "execution_count": 10,
   "id": "b4e34f26-f464-4a4b-9642-2883ff49a354",
   "metadata": {
    "collapsed": true,
    "jupyter": {
     "outputs_hidden": true
    },
    "tags": []
   },
   "outputs": [
    {
     "data": {
      "text/plain": [
       "[17522,\n",
       " 17401,\n",
       " 16624,\n",
       " 16571,\n",
       " 16425,\n",
       " 16280,\n",
       " 15934,\n",
       " 15849,\n",
       " 15763,\n",
       " 15704,\n",
       " 15572,\n",
       " 15560,\n",
       " 15484,\n",
       " 15463,\n",
       " 15461,\n",
       " 15334,\n",
       " 15221,\n",
       " 15215,\n",
       " 15005,\n",
       " 14902,\n",
       " 14886,\n",
       " 14710,\n",
       " 14452,\n",
       " 14385,\n",
       " 14379,\n",
       " 14377,\n",
       " 13738,\n",
       " 13660,\n",
       " 13558,\n",
       " 12826,\n",
       " 12686,\n",
       " 12615,\n",
       " 12606,\n",
       " 12187,\n",
       " 12078,\n",
       " 12052,\n",
       " 12041,\n",
       " 11952,\n",
       " 11892,\n",
       " 11379,\n",
       " 10999,\n",
       " 10991,\n",
       " 10961,\n",
       " 10850,\n",
       " 10769,\n",
       " 10459,\n",
       " 10336,\n",
       " 10320,\n",
       " 10190,\n",
       " 10182,\n",
       " 9828,\n",
       " 9670,\n",
       " 9632,\n",
       " 9582,\n",
       " 9563,\n",
       " 9560,\n",
       " 9408,\n",
       " 9321,\n",
       " 9254,\n",
       " 9242,\n",
       " 9172,\n",
       " 9144,\n",
       " 9139,\n",
       " 9079,\n",
       " 9060,\n",
       " 9056,\n",
       " 9036,\n",
       " 8877,\n",
       " 8775,\n",
       " 8714,\n",
       " 8657,\n",
       " 8548,\n",
       " 8468,\n",
       " 8197,\n",
       " 8003,\n",
       " 7991,\n",
       " 7987,\n",
       " 7836,\n",
       " 7762,\n",
       " 7653,\n",
       " 7582,\n",
       " 7555,\n",
       " 7541,\n",
       " 6920,\n",
       " 6810,\n",
       " 6773,\n",
       " 6704,\n",
       " 6595,\n",
       " 6524,\n",
       " 6326,\n",
       " 6288,\n",
       " 6215,\n",
       " 6186,\n",
       " 6165]"
      ]
     },
     "execution_count": 10,
     "metadata": {},
     "output_type": "execute_result"
    }
   ],
   "source": [
    "cso_autolaunched"
   ]
  },
  {
   "cell_type": "code",
   "execution_count": null,
   "id": "34dc2c7a-7dc6-4418-83d4-713f8075e710",
   "metadata": {},
   "outputs": [],
   "source": [
    "import random"
   ]
  },
  {
   "cell_type": "code",
   "execution_count": 16,
   "id": "959dbbfb-31e2-4cae-aaaf-2a05d599e469",
   "metadata": {
    "collapsed": true,
    "jupyter": {
     "outputs_hidden": true,
     "source_hidden": true
    },
    "tags": []
   },
   "outputs": [
    {
     "name": "stdout",
     "output_type": "stream",
     "text": [
      "106 2022-01-22 00:51:50 2022-02-24 15:18:42 aaaah\n"
     ]
    }
   ],
   "source": [
    "ln = len(df['timestamp'])\n",
    "for i in range(ln-1):\n",
    "    ls = [int(j) for j in df['timestamp'][i].split()[0].split('-')]\n",
    "    ts = [int(j) for j in df['timestamp'][i].split()[1][:-6].split(':')]\n",
    "    dtime1 = datetime(ls[0], ls[1], ls[2], ts[0], ts[1], ts[2])\n",
    "    ls = [int(j) for j in df['timestamp'][i+1].split()[0].split('-')]\n",
    "    ts = [int(j) for j in df['timestamp'][i+1].split()[1][:-6].split(':')]\n",
    "    dtime2 = datetime(ls[0], ls[1], ls[2], ts[0], ts[1], ts[2])\n",
    "    if(dtime1 < dtime2):\n",
    "        print(i, dtime1, dtime2, 'aaaah')\n",
    "        break"
   ]
  },
  {
   "cell_type": "code",
   "execution_count": 12,
   "id": "9fd41161-acff-4eae-afcb-fd1fd54a69c7",
   "metadata": {
    "collapsed": true,
    "jupyter": {
     "outputs_hidden": true,
     "source_hidden": true
    },
    "tags": []
   },
   "outputs": [
    {
     "data": {
      "text/html": [
       "<div>\n",
       "<style scoped>\n",
       "    .dataframe tbody tr th:only-of-type {\n",
       "        vertical-align: middle;\n",
       "    }\n",
       "\n",
       "    .dataframe tbody tr th {\n",
       "        vertical-align: top;\n",
       "    }\n",
       "\n",
       "    .dataframe thead th {\n",
       "        text-align: right;\n",
       "    }\n",
       "</style>\n",
       "<table border=\"1\" class=\"dataframe\">\n",
       "  <thead>\n",
       "    <tr style=\"text-align: right;\">\n",
       "      <th></th>\n",
       "      <th>Unnamed: 0</th>\n",
       "      <th>alertname</th>\n",
       "      <th>clusterside</th>\n",
       "      <th>datacenter</th>\n",
       "      <th>environment</th>\n",
       "      <th>instance</th>\n",
       "      <th>pagerduty_enabled</th>\n",
       "      <th>service_name</th>\n",
       "      <th>severity</th>\n",
       "      <th>sre_slack</th>\n",
       "      <th>...</th>\n",
       "      <th>destination_workload</th>\n",
       "      <th>queuename</th>\n",
       "      <th>node</th>\n",
       "      <th>tag_Datacenter</th>\n",
       "      <th>tag_StackType</th>\n",
       "      <th>tag_aws_cloudformation_logical_id</th>\n",
       "      <th>file</th>\n",
       "      <th>dba_pagerduty_enabled</th>\n",
       "      <th>dba_slack</th>\n",
       "      <th>time_r</th>\n",
       "    </tr>\n",
       "  </thead>\n",
       "  <tbody>\n",
       "    <tr>\n",
       "      <th>4578</th>\n",
       "      <td>4578</td>\n",
       "      <td>quartz_scheduler_down_alert</td>\n",
       "      <td>a</td>\n",
       "      <td>na4dc2</td>\n",
       "      <td>prod</td>\n",
       "      <td>job-a3.in.na4dc2.echosign.com</td>\n",
       "      <td>True</td>\n",
       "      <td>quartz</td>\n",
       "      <td>sev2</td>\n",
       "      <td>True</td>\n",
       "      <td>...</td>\n",
       "      <td>NaN</td>\n",
       "      <td>NaN</td>\n",
       "      <td>NaN</td>\n",
       "      <td>NaN</td>\n",
       "      <td>NaN</td>\n",
       "      <td>NaN</td>\n",
       "      <td>NaN</td>\n",
       "      <td>NaN</td>\n",
       "      <td>NaN</td>\n",
       "      <td>2021-10-18 22:00:00+00:00</td>\n",
       "    </tr>\n",
       "    <tr>\n",
       "      <th>4576</th>\n",
       "      <td>4576</td>\n",
       "      <td>quartz_scheduler_down_alert</td>\n",
       "      <td>a</td>\n",
       "      <td>azure-sg1dc1</td>\n",
       "      <td>prod</td>\n",
       "      <td>job-a3.in.sg1dc1.echosign.com</td>\n",
       "      <td>True</td>\n",
       "      <td>quartz</td>\n",
       "      <td>sev2</td>\n",
       "      <td>True</td>\n",
       "      <td>...</td>\n",
       "      <td>NaN</td>\n",
       "      <td>NaN</td>\n",
       "      <td>NaN</td>\n",
       "      <td>NaN</td>\n",
       "      <td>NaN</td>\n",
       "      <td>NaN</td>\n",
       "      <td>NaN</td>\n",
       "      <td>NaN</td>\n",
       "      <td>NaN</td>\n",
       "      <td>2021-10-18 22:00:00+00:00</td>\n",
       "    </tr>\n",
       "    <tr>\n",
       "      <th>4575</th>\n",
       "      <td>4575</td>\n",
       "      <td>quartz_scheduler_down_alert</td>\n",
       "      <td>a</td>\n",
       "      <td>azure-sg1dc1</td>\n",
       "      <td>prod</td>\n",
       "      <td>job-a2.in.sg1dc1.echosign.com</td>\n",
       "      <td>True</td>\n",
       "      <td>quartz</td>\n",
       "      <td>sev2</td>\n",
       "      <td>True</td>\n",
       "      <td>...</td>\n",
       "      <td>NaN</td>\n",
       "      <td>NaN</td>\n",
       "      <td>NaN</td>\n",
       "      <td>NaN</td>\n",
       "      <td>NaN</td>\n",
       "      <td>NaN</td>\n",
       "      <td>NaN</td>\n",
       "      <td>NaN</td>\n",
       "      <td>NaN</td>\n",
       "      <td>2021-10-18 22:00:00+00:00</td>\n",
       "    </tr>\n",
       "    <tr>\n",
       "      <th>4574</th>\n",
       "      <td>4574</td>\n",
       "      <td>quartz_scheduler_down_alert</td>\n",
       "      <td>a</td>\n",
       "      <td>eu1dc2</td>\n",
       "      <td>prod</td>\n",
       "      <td>job-a3.in.eu1dc2.echosign.com</td>\n",
       "      <td>True</td>\n",
       "      <td>quartz</td>\n",
       "      <td>sev2</td>\n",
       "      <td>True</td>\n",
       "      <td>...</td>\n",
       "      <td>NaN</td>\n",
       "      <td>NaN</td>\n",
       "      <td>NaN</td>\n",
       "      <td>NaN</td>\n",
       "      <td>NaN</td>\n",
       "      <td>NaN</td>\n",
       "      <td>NaN</td>\n",
       "      <td>NaN</td>\n",
       "      <td>NaN</td>\n",
       "      <td>2021-10-18 22:00:00+00:00</td>\n",
       "    </tr>\n",
       "    <tr>\n",
       "      <th>4573</th>\n",
       "      <td>4573</td>\n",
       "      <td>quartz_scheduler_down_alert</td>\n",
       "      <td>a</td>\n",
       "      <td>eu1dc2</td>\n",
       "      <td>prod</td>\n",
       "      <td>job-a2.in.eu1dc2.echosign.com</td>\n",
       "      <td>True</td>\n",
       "      <td>quartz</td>\n",
       "      <td>sev2</td>\n",
       "      <td>True</td>\n",
       "      <td>...</td>\n",
       "      <td>NaN</td>\n",
       "      <td>NaN</td>\n",
       "      <td>NaN</td>\n",
       "      <td>NaN</td>\n",
       "      <td>NaN</td>\n",
       "      <td>NaN</td>\n",
       "      <td>NaN</td>\n",
       "      <td>NaN</td>\n",
       "      <td>NaN</td>\n",
       "      <td>2021-10-18 22:00:00+00:00</td>\n",
       "    </tr>\n",
       "    <tr>\n",
       "      <th>...</th>\n",
       "      <td>...</td>\n",
       "      <td>...</td>\n",
       "      <td>...</td>\n",
       "      <td>...</td>\n",
       "      <td>...</td>\n",
       "      <td>...</td>\n",
       "      <td>...</td>\n",
       "      <td>...</td>\n",
       "      <td>...</td>\n",
       "      <td>...</td>\n",
       "      <td>...</td>\n",
       "      <td>...</td>\n",
       "      <td>...</td>\n",
       "      <td>...</td>\n",
       "      <td>...</td>\n",
       "      <td>...</td>\n",
       "      <td>...</td>\n",
       "      <td>...</td>\n",
       "      <td>...</td>\n",
       "      <td>...</td>\n",
       "      <td>...</td>\n",
       "    </tr>\n",
       "    <tr>\n",
       "      <th>5174</th>\n",
       "      <td>5174</td>\n",
       "      <td>keystore_diagnostic_test_timed_out_alert</td>\n",
       "      <td>a</td>\n",
       "      <td>na2dc2</td>\n",
       "      <td>prod</td>\n",
       "      <td>app-a12.in.na2dc2.echosign.com</td>\n",
       "      <td>True</td>\n",
       "      <td>adc</td>\n",
       "      <td>sev2</td>\n",
       "      <td>True</td>\n",
       "      <td>...</td>\n",
       "      <td>NaN</td>\n",
       "      <td>NaN</td>\n",
       "      <td>NaN</td>\n",
       "      <td>NaN</td>\n",
       "      <td>NaN</td>\n",
       "      <td>NaN</td>\n",
       "      <td>NaN</td>\n",
       "      <td>NaN</td>\n",
       "      <td>NaN</td>\n",
       "      <td>2022-03-28 19:00:00+00:00</td>\n",
       "    </tr>\n",
       "    <tr>\n",
       "      <th>5175</th>\n",
       "      <td>5175</td>\n",
       "      <td>memcached_diagnostic_test_timed_out_alert</td>\n",
       "      <td>a</td>\n",
       "      <td>na2dc2</td>\n",
       "      <td>prod</td>\n",
       "      <td>app-a12.in.na2dc2.echosign.com</td>\n",
       "      <td>True</td>\n",
       "      <td>adc</td>\n",
       "      <td>sev2</td>\n",
       "      <td>True</td>\n",
       "      <td>...</td>\n",
       "      <td>NaN</td>\n",
       "      <td>NaN</td>\n",
       "      <td>NaN</td>\n",
       "      <td>NaN</td>\n",
       "      <td>NaN</td>\n",
       "      <td>NaN</td>\n",
       "      <td>NaN</td>\n",
       "      <td>NaN</td>\n",
       "      <td>NaN</td>\n",
       "      <td>2022-03-28 19:00:00+00:00</td>\n",
       "    </tr>\n",
       "    <tr>\n",
       "      <th>5176</th>\n",
       "      <td>5176</td>\n",
       "      <td>keystore_diagnostic_failing_alert</td>\n",
       "      <td>a</td>\n",
       "      <td>na2dc2</td>\n",
       "      <td>prod</td>\n",
       "      <td>app-a12.in.na2dc2.echosign.com</td>\n",
       "      <td>True</td>\n",
       "      <td>adc</td>\n",
       "      <td>sev2</td>\n",
       "      <td>True</td>\n",
       "      <td>...</td>\n",
       "      <td>NaN</td>\n",
       "      <td>NaN</td>\n",
       "      <td>NaN</td>\n",
       "      <td>NaN</td>\n",
       "      <td>NaN</td>\n",
       "      <td>NaN</td>\n",
       "      <td>NaN</td>\n",
       "      <td>NaN</td>\n",
       "      <td>NaN</td>\n",
       "      <td>2022-03-28 19:00:00+00:00</td>\n",
       "    </tr>\n",
       "    <tr>\n",
       "      <th>5177</th>\n",
       "      <td>5177</td>\n",
       "      <td>memcached_diagnostic_failing_alert</td>\n",
       "      <td>a</td>\n",
       "      <td>na2dc2</td>\n",
       "      <td>prod</td>\n",
       "      <td>app-a12.in.na2dc2.echosign.com</td>\n",
       "      <td>True</td>\n",
       "      <td>adc</td>\n",
       "      <td>sev2</td>\n",
       "      <td>True</td>\n",
       "      <td>...</td>\n",
       "      <td>NaN</td>\n",
       "      <td>NaN</td>\n",
       "      <td>NaN</td>\n",
       "      <td>NaN</td>\n",
       "      <td>NaN</td>\n",
       "      <td>NaN</td>\n",
       "      <td>NaN</td>\n",
       "      <td>NaN</td>\n",
       "      <td>NaN</td>\n",
       "      <td>2022-03-28 19:00:00+00:00</td>\n",
       "    </tr>\n",
       "    <tr>\n",
       "      <th>5173</th>\n",
       "      <td>5173</td>\n",
       "      <td>instance_load_average_5minutes_alert</td>\n",
       "      <td>a</td>\n",
       "      <td>na2dc2</td>\n",
       "      <td>prod</td>\n",
       "      <td>app-a12.in.na2dc2.echosign.com</td>\n",
       "      <td>True</td>\n",
       "      <td>instance</td>\n",
       "      <td>sev2</td>\n",
       "      <td>True</td>\n",
       "      <td>...</td>\n",
       "      <td>NaN</td>\n",
       "      <td>NaN</td>\n",
       "      <td>NaN</td>\n",
       "      <td>NaN</td>\n",
       "      <td>NaN</td>\n",
       "      <td>NaN</td>\n",
       "      <td>NaN</td>\n",
       "      <td>NaN</td>\n",
       "      <td>NaN</td>\n",
       "      <td>2022-03-28 19:00:00+00:00</td>\n",
       "    </tr>\n",
       "  </tbody>\n",
       "</table>\n",
       "<p>10493 rows × 45 columns</p>\n",
       "</div>"
      ],
      "text/plain": [
       "      Unnamed: 0                                  alertname clusterside  \\\n",
       "4578        4578                quartz_scheduler_down_alert           a   \n",
       "4576        4576                quartz_scheduler_down_alert           a   \n",
       "4575        4575                quartz_scheduler_down_alert           a   \n",
       "4574        4574                quartz_scheduler_down_alert           a   \n",
       "4573        4573                quartz_scheduler_down_alert           a   \n",
       "...          ...                                        ...         ...   \n",
       "5174        5174   keystore_diagnostic_test_timed_out_alert           a   \n",
       "5175        5175  memcached_diagnostic_test_timed_out_alert           a   \n",
       "5176        5176          keystore_diagnostic_failing_alert           a   \n",
       "5177        5177         memcached_diagnostic_failing_alert           a   \n",
       "5173        5173       instance_load_average_5minutes_alert           a   \n",
       "\n",
       "        datacenter environment                        instance  \\\n",
       "4578        na4dc2        prod   job-a3.in.na4dc2.echosign.com   \n",
       "4576  azure-sg1dc1        prod   job-a3.in.sg1dc1.echosign.com   \n",
       "4575  azure-sg1dc1        prod   job-a2.in.sg1dc1.echosign.com   \n",
       "4574        eu1dc2        prod   job-a3.in.eu1dc2.echosign.com   \n",
       "4573        eu1dc2        prod   job-a2.in.eu1dc2.echosign.com   \n",
       "...            ...         ...                             ...   \n",
       "5174        na2dc2        prod  app-a12.in.na2dc2.echosign.com   \n",
       "5175        na2dc2        prod  app-a12.in.na2dc2.echosign.com   \n",
       "5176        na2dc2        prod  app-a12.in.na2dc2.echosign.com   \n",
       "5177        na2dc2        prod  app-a12.in.na2dc2.echosign.com   \n",
       "5173        na2dc2        prod  app-a12.in.na2dc2.echosign.com   \n",
       "\n",
       "     pagerduty_enabled service_name severity sre_slack  ...  \\\n",
       "4578              True       quartz     sev2      True  ...   \n",
       "4576              True       quartz     sev2      True  ...   \n",
       "4575              True       quartz     sev2      True  ...   \n",
       "4574              True       quartz     sev2      True  ...   \n",
       "4573              True       quartz     sev2      True  ...   \n",
       "...                ...          ...      ...       ...  ...   \n",
       "5174              True          adc     sev2      True  ...   \n",
       "5175              True          adc     sev2      True  ...   \n",
       "5176              True          adc     sev2      True  ...   \n",
       "5177              True          adc     sev2      True  ...   \n",
       "5173              True     instance     sev2      True  ...   \n",
       "\n",
       "     destination_workload queuename node tag_Datacenter  tag_StackType  \\\n",
       "4578                  NaN       NaN  NaN            NaN            NaN   \n",
       "4576                  NaN       NaN  NaN            NaN            NaN   \n",
       "4575                  NaN       NaN  NaN            NaN            NaN   \n",
       "4574                  NaN       NaN  NaN            NaN            NaN   \n",
       "4573                  NaN       NaN  NaN            NaN            NaN   \n",
       "...                   ...       ...  ...            ...            ...   \n",
       "5174                  NaN       NaN  NaN            NaN            NaN   \n",
       "5175                  NaN       NaN  NaN            NaN            NaN   \n",
       "5176                  NaN       NaN  NaN            NaN            NaN   \n",
       "5177                  NaN       NaN  NaN            NaN            NaN   \n",
       "5173                  NaN       NaN  NaN            NaN            NaN   \n",
       "\n",
       "     tag_aws_cloudformation_logical_id file  dba_pagerduty_enabled dba_slack  \\\n",
       "4578                               NaN  NaN                    NaN       NaN   \n",
       "4576                               NaN  NaN                    NaN       NaN   \n",
       "4575                               NaN  NaN                    NaN       NaN   \n",
       "4574                               NaN  NaN                    NaN       NaN   \n",
       "4573                               NaN  NaN                    NaN       NaN   \n",
       "...                                ...  ...                    ...       ...   \n",
       "5174                               NaN  NaN                    NaN       NaN   \n",
       "5175                               NaN  NaN                    NaN       NaN   \n",
       "5176                               NaN  NaN                    NaN       NaN   \n",
       "5177                               NaN  NaN                    NaN       NaN   \n",
       "5173                               NaN  NaN                    NaN       NaN   \n",
       "\n",
       "                         time_r  \n",
       "4578  2021-10-18 22:00:00+00:00  \n",
       "4576  2021-10-18 22:00:00+00:00  \n",
       "4575  2021-10-18 22:00:00+00:00  \n",
       "4574  2021-10-18 22:00:00+00:00  \n",
       "4573  2021-10-18 22:00:00+00:00  \n",
       "...                         ...  \n",
       "5174  2022-03-28 19:00:00+00:00  \n",
       "5175  2022-03-28 19:00:00+00:00  \n",
       "5176  2022-03-28 19:00:00+00:00  \n",
       "5177  2022-03-28 19:00:00+00:00  \n",
       "5173  2022-03-28 19:00:00+00:00  \n",
       "\n",
       "[10493 rows x 45 columns]"
      ]
     },
     "execution_count": 12,
     "metadata": {},
     "output_type": "execute_result"
    }
   ],
   "source": [
    "\n",
    "df2"
   ]
  },
  {
   "cell_type": "code",
   "execution_count": 21,
   "id": "3a65c719-8ee3-401a-8f75-8414a7073a56",
   "metadata": {
    "tags": []
   },
   "outputs": [],
   "source": [
    "ls = [int(j) for j in df['timestamp'][0].split()[0].split('-')]\n",
    "ts = [int(j) for j in df['timestamp'][0].split()[1][:-6].split(':')]"
   ]
  },
  {
   "cell_type": "code",
   "execution_count": 23,
   "id": "3d82783c-ab49-4418-b420-6ed131521f89",
   "metadata": {
    "jupyter": {
     "source_hidden": true
    }
   },
   "outputs": [],
   "source": [
    "dtime = datetime(ls[0], ls[1], ls[2], ts[0], ts[1], ts[2])"
   ]
  },
  {
   "cell_type": "code",
   "execution_count": 28,
   "id": "dee95734-10f8-48d3-bbdc-f7ca93e32492",
   "metadata": {
    "collapsed": true,
    "jupyter": {
     "outputs_hidden": true,
     "source_hidden": true
    },
    "tags": []
   },
   "outputs": [
    {
     "data": {
      "text/plain": [
       "False"
      ]
     },
     "execution_count": 28,
     "metadata": {},
     "output_type": "execute_result"
    }
   ],
   "source": [
    "dtime > datetime.now()"
   ]
  },
  {
   "cell_type": "code",
   "execution_count": 24,
   "id": "90151384-babb-4572-985d-2470bbc06363",
   "metadata": {
    "collapsed": true,
    "jupyter": {
     "outputs_hidden": true,
     "source_hidden": true
    },
    "tags": []
   },
   "outputs": [
    {
     "name": "stdout",
     "output_type": "stream",
     "text": [
      "2022-03-16 12:44:54\n"
     ]
    }
   ],
   "source": [
    "print(dtime)"
   ]
  },
  {
   "cell_type": "code",
   "execution_count": 25,
   "id": "562c0c3f-d711-4a55-b029-1dc8ed952dee",
   "metadata": {
    "collapsed": true,
    "jupyter": {
     "outputs_hidden": true,
     "source_hidden": true
    },
    "tags": []
   },
   "outputs": [
    {
     "name": "stdout",
     "output_type": "stream",
     "text": [
      "1647434694.0\n"
     ]
    }
   ],
   "source": [
    "print(dtime.timestamp())"
   ]
  }
 ],
 "metadata": {
  "kernelspec": {
   "display_name": "Python 3 (ipykernel)",
   "language": "python",
   "name": "python3"
  },
  "language_info": {
   "codemirror_mode": {
    "name": "ipython",
    "version": 3
   },
   "file_extension": ".py",
   "mimetype": "text/x-python",
   "name": "python",
   "nbconvert_exporter": "python",
   "pygments_lexer": "ipython3",
   "version": "3.8.12"
  }
 },
 "nbformat": 4,
 "nbformat_minor": 5
}
