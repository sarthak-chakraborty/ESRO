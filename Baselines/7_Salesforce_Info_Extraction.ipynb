{
 "cells": [
  {
   "cell_type": "markdown",
   "id": "dbe9b0b3-53df-42d0-aea7-eafcc90dfc2c",
   "metadata": {},
   "source": [
    "# Information Extraction as described in Section 3.1 of Salesforce Paper"
   ]
  },
  {
   "cell_type": "markdown",
   "id": "a0bfdc1c-30d4-47fc-894f-a7e185ed017b",
   "metadata": {},
   "source": [
    "## Importing Packages and Files"
   ]
  },
  {
   "cell_type": "code",
   "execution_count": 1,
   "id": "d33b45d0-550a-4922-91fd-e49e242c8b32",
   "metadata": {},
   "outputs": [],
   "source": [
    "import os\n",
    "import json\n",
    "import pandas as pd\n",
    "from io import StringIO\n",
    "import html\n",
    "from html.parser import HTMLParser\n",
    "import time\n",
    "from bs4 import BeautifulSoup\n",
    "import re"
   ]
  },
  {
   "cell_type": "code",
   "execution_count": 2,
   "id": "820a34f5-026a-415b-8635-196f6f7ce19d",
   "metadata": {
    "tags": []
   },
   "outputs": [
    {
     "data": {
      "application/json": {
       "ascii": false,
       "bar_format": null,
       "colour": null,
       "elapsed": 0.00846242904663086,
       "initial": 0,
       "n": 0,
       "ncols": null,
       "nrows": null,
       "postfix": null,
       "prefix": "Downloading (…)lve/main/config.json",
       "rate": null,
       "total": 571,
       "unit": "B",
       "unit_divisor": 1000,
       "unit_scale": true
      },
      "application/vnd.jupyter.widget-view+json": {
       "model_id": "53eb85d066bf48fd8c099f87c5608417",
       "version_major": 2,
       "version_minor": 0
      },
      "text/plain": [
       "Downloading (…)lve/main/config.json:   0%|          | 0.00/571 [00:00<?, ?B/s]"
      ]
     },
     "metadata": {},
     "output_type": "display_data"
    },
    {
     "data": {
      "application/json": {
       "ascii": false,
       "bar_format": null,
       "colour": null,
       "elapsed": 0.006551265716552734,
       "initial": 0,
       "n": 0,
       "ncols": null,
       "nrows": null,
       "postfix": null,
       "prefix": "Downloading (…)\"pytorch_model.bin\";",
       "rate": null,
       "total": 496313727,
       "unit": "B",
       "unit_divisor": 1000,
       "unit_scale": true
      },
      "application/vnd.jupyter.widget-view+json": {
       "model_id": "f0b34ad24f924e80aa6ca8341438a3b3",
       "version_major": 2,
       "version_minor": 0
      },
      "text/plain": [
       "Downloading (…)\"pytorch_model.bin\";:   0%|          | 0.00/496M [00:00<?, ?B/s]"
      ]
     },
     "metadata": {},
     "output_type": "display_data"
    },
    {
     "data": {
      "application/json": {
       "ascii": false,
       "bar_format": null,
       "colour": null,
       "elapsed": 0.008115530014038086,
       "initial": 0,
       "n": 0,
       "ncols": null,
       "nrows": null,
       "postfix": null,
       "prefix": "Downloading (…)okenizer_config.json",
       "rate": null,
       "total": 79,
       "unit": "B",
       "unit_divisor": 1000,
       "unit_scale": true
      },
      "application/vnd.jupyter.widget-view+json": {
       "model_id": "fa93aee9413a4eefb54d230df94eb920",
       "version_major": 2,
       "version_minor": 0
      },
      "text/plain": [
       "Downloading (…)okenizer_config.json:   0%|          | 0.00/79.0 [00:00<?, ?B/s]"
      ]
     },
     "metadata": {},
     "output_type": "display_data"
    },
    {
     "data": {
      "application/json": {
       "ascii": false,
       "bar_format": null,
       "colour": null,
       "elapsed": 0.00661468505859375,
       "initial": 0,
       "n": 0,
       "ncols": null,
       "nrows": null,
       "postfix": null,
       "prefix": "Downloading (…)olve/main/vocab.json",
       "rate": null,
       "total": 898822,
       "unit": "B",
       "unit_divisor": 1000,
       "unit_scale": true
      },
      "application/vnd.jupyter.widget-view+json": {
       "model_id": "c6e0d75c57df46f1978aabb36d16dc50",
       "version_major": 2,
       "version_minor": 0
      },
      "text/plain": [
       "Downloading (…)olve/main/vocab.json:   0%|          | 0.00/899k [00:00<?, ?B/s]"
      ]
     },
     "metadata": {},
     "output_type": "display_data"
    },
    {
     "data": {
      "application/json": {
       "ascii": false,
       "bar_format": null,
       "colour": null,
       "elapsed": 0.008661031723022461,
       "initial": 0,
       "n": 0,
       "ncols": null,
       "nrows": null,
       "postfix": null,
       "prefix": "Downloading (…)olve/main/merges.txt",
       "rate": null,
       "total": 456318,
       "unit": "B",
       "unit_divisor": 1000,
       "unit_scale": true
      },
      "application/vnd.jupyter.widget-view+json": {
       "model_id": "a5484f9ec4444fe091e928c26dfd4cd0",
       "version_major": 2,
       "version_minor": 0
      },
      "text/plain": [
       "Downloading (…)olve/main/merges.txt:   0%|          | 0.00/456k [00:00<?, ?B/s]"
      ]
     },
     "metadata": {},
     "output_type": "display_data"
    },
    {
     "data": {
      "application/json": {
       "ascii": false,
       "bar_format": null,
       "colour": null,
       "elapsed": 0.006368160247802734,
       "initial": 0,
       "n": 0,
       "ncols": null,
       "nrows": null,
       "postfix": null,
       "prefix": "Downloading (…)cial_tokens_map.json",
       "rate": null,
       "total": 772,
       "unit": "B",
       "unit_divisor": 1000,
       "unit_scale": true
      },
      "application/vnd.jupyter.widget-view+json": {
       "model_id": "3043129268f44ab5a3f8e3de61c3579f",
       "version_major": 2,
       "version_minor": 0
      },
      "text/plain": [
       "Downloading (…)cial_tokens_map.json:   0%|          | 0.00/772 [00:00<?, ?B/s]"
      ]
     },
     "metadata": {},
     "output_type": "display_data"
    }
   ],
   "source": [
    "from transformers import AutoModelForQuestionAnswering, AutoTokenizer, pipeline\n",
    "model_name = \"deepset/roberta-base-squad2\"\n",
    "roberta_model = pipeline('question-answering', model=model_name, tokenizer=model_name)"
   ]
  },
  {
   "cell_type": "code",
   "execution_count": 3,
   "id": "fc3b09d2-e11b-4e7d-9655-ce6362042904",
   "metadata": {},
   "outputs": [],
   "source": [
    "json_file = './CSO_data/CSO_all_scraped_Sign.json'"
   ]
  },
  {
   "cell_type": "markdown",
   "id": "73efe576-6706-44fa-896e-9f0ad1e88aff",
   "metadata": {
    "tags": []
   },
   "source": [
    "## Cleaning Functions"
   ]
  },
  {
   "cell_type": "markdown",
   "id": "e69a88a1-1df2-45c6-8efa-57f33385d0f8",
   "metadata": {
    "tags": []
   },
   "source": [
    "## RC Extraction"
   ]
  },
  {
   "cell_type": "code",
   "execution_count": 4,
   "id": "9510253c-2c23-43e9-b6a3-07e6c8761625",
   "metadata": {
    "scrolled": true,
    "tags": []
   },
   "outputs": [
    {
     "name": "stdout",
     "output_type": "stream",
     "text": [
      "17536  done\n",
      "17522  done\n",
      "17510  done\n",
      "17401  done\n",
      "17368  done\n",
      "17088  done\n",
      "16755  done\n",
      "16742  done\n",
      "16649  done\n",
      "16644  done\n",
      "16624  done\n",
      "16589  done\n",
      "16571  done\n",
      "16536  done\n",
      "16532  done\n",
      "16516  done\n",
      "16480  done\n",
      "16425  done\n",
      "16280  done\n",
      "16263  done\n",
      "15934  done\n",
      "15873  done\n",
      "15869  done\n",
      "15849  done\n",
      "15839  done\n",
      "15763  done\n",
      "15739  done\n",
      "15704  done\n",
      "15572  done\n",
      "15560  done\n",
      "15558  done\n",
      "15539  done\n",
      "15493  done\n",
      "15484  done\n",
      "15463  done\n",
      "15461  done\n",
      "15334  done\n",
      "15221  done\n",
      "15215  done\n",
      "15126  done\n",
      "15019  done\n",
      "15005  done\n",
      "14965  done\n",
      "14961  done\n",
      "14947  done\n",
      "14932  done\n",
      "14902  done\n",
      "14886  done\n",
      "14865  done\n",
      "14804  done\n",
      "14797  done\n",
      "14767  done\n",
      "14757  done\n",
      "14722  done\n",
      "14710  done\n",
      "14573  done\n",
      "14452  done\n",
      "14449  done\n",
      "14385  done\n",
      "14379  done\n",
      "14377  done\n",
      "14224  done\n",
      "14073  done\n",
      "14055  done\n",
      "13850  done\n",
      "13840  done\n",
      "13808  done\n",
      "13738  done\n",
      "13678  done\n",
      "13662  done\n",
      "13660  done\n",
      "13630  done\n",
      "13558  done\n",
      "12826  done\n",
      "12686  done\n",
      "12626  done\n",
      "12615  done\n",
      "12606  done\n",
      "12187  done\n",
      "12088  done\n",
      "12078  done\n",
      "12070  done\n",
      "12052  done\n",
      "12041  done\n",
      "11993  done\n",
      "11952  done\n",
      "11892  done\n",
      "11379  done\n",
      "10999  done\n",
      "10991  done\n",
      "10961  done\n",
      "10850  done\n",
      "10835  done\n",
      "10769  done\n",
      "10658  done\n",
      "10625  done\n",
      "10601  done\n",
      "10597  done\n",
      "10459  done\n",
      "10395  done\n",
      "10384  done\n",
      "10336  done\n",
      "10320  done\n",
      "10302  done\n",
      "10286  done\n",
      "10190  done\n",
      "10182  done\n",
      "9828  done\n",
      "9670  done\n",
      "9632  done\n",
      "9624  done\n",
      "9582  done\n",
      "9563  done\n",
      "9560  done\n",
      "9408  done\n",
      "9325  done\n",
      "9321  done\n",
      "9274  done\n",
      "9254  done\n",
      "9242  done\n",
      "9206  done\n",
      "9172  done\n",
      "9144  done\n",
      "9139  done\n",
      "9131  done\n",
      "9079  done\n",
      "9060  done\n",
      "9056  done\n",
      "9036  done\n",
      "8995  done\n",
      "8934  done\n",
      "8877  done\n",
      "8837  done\n",
      "8775  done\n",
      "8754  done\n",
      "8714  done\n",
      "8657  done\n",
      "8653  done\n",
      "8548  done\n",
      "8468  done\n",
      "8365  done\n",
      "8343  done\n",
      "8197  done\n",
      "8005  done\n",
      "8003  done\n",
      "7991  done\n",
      "7987  done\n",
      "7872  done\n",
      "7836  done\n",
      "7762  done\n",
      "7653  done\n",
      "7599  done\n",
      "7582  done\n",
      "7555  done\n",
      "7541  done\n",
      "7500  done\n",
      "7042  done\n",
      "7012  done\n",
      "6920  done\n",
      "6894  done\n",
      "6880  done\n",
      "6810  done\n",
      "6773  done\n",
      "6704  done\n",
      "6595  done\n",
      "6578  done\n",
      "6577  done\n",
      "6572  done\n",
      "6524  done\n",
      "6419  done\n"
     ]
    },
    {
     "name": "stderr",
     "output_type": "stream",
     "text": [
      "/opt/conda/lib/python3.8/site-packages/bs4/__init__.py:435: MarkupResemblesLocatorWarning: The input looks more like a filename than markup. You may want to open this file and pass the filehandle into Beautiful Soup.\n",
      "  warnings.warn(\n"
     ]
    },
    {
     "name": "stdout",
     "output_type": "stream",
     "text": [
      "6326  done\n",
      "6323  done\n",
      "6288  done\n",
      "6215  done\n",
      "6186  done\n",
      "6165  done\n",
      "6147  done\n",
      "6119  done\n",
      "6065  done\n",
      "6025  done\n"
     ]
    }
   ],
   "source": [
    "t = time.time()\n",
    "with open(json_file, 'r') as f:\n",
    "    data = json.load(f)\n",
    "\n",
    "rc_ques = ['What was the root cause?', 'What was the root cause of the CSO?', 'What caused the CSO?', 'Why did CSO occur?', 'What was the root cause of the incident?', 'What caused the incident?', 'Why did incident occur?']\n",
    "rc_dict = {}\n",
    "for cso in list(data.keys())[:-2]:\n",
    "    max_score = 0\n",
    "    rc = 'None'\n",
    "    if (data[cso]['problems'][0]['u_root_cause_description']== None) or (data[cso]['problems'][0]['u_root_cause_description']==''):\n",
    "        x = \"None\"\n",
    "    else:\n",
    "        x = BeautifulSoup(data[cso]['problems'][0]['u_root_cause_description']).get_text().replace('\\n',' ').replace('\\r',' ').replace('\\xa0',' ')\n",
    "\n",
    "    trial = {}\n",
    "    trial['context'] = x\n",
    "\n",
    "    for i in rc_ques:\n",
    "        trial['question'] = i\n",
    "        ans = roberta_model(trial)\n",
    "        if ans['score']>max_score:\n",
    "            rc = ans['answer']\n",
    "            max_score = ans['score']\n",
    "    rc_dict[int(cso)] = rc\n",
    "    print(cso, \" done\")\n",
    "rc_time = time.time()-t"
   ]
  },
  {
   "cell_type": "code",
   "execution_count": 5,
   "id": "cef30467-def7-4f7e-8aef-c64587a17f1c",
   "metadata": {},
   "outputs": [
    {
     "data": {
      "text/plain": [
       "180"
      ]
     },
     "execution_count": 5,
     "metadata": {},
     "output_type": "execute_result"
    }
   ],
   "source": [
    "len(rc_dict)"
   ]
  },
  {
   "cell_type": "markdown",
   "id": "34d0aa64-a151-411d-8e70-20a865e59d0a",
   "metadata": {
    "tags": []
   },
   "source": [
    "## Rem Extraction"
   ]
  },
  {
   "cell_type": "code",
   "execution_count": 6,
   "id": "3df81d81-24da-4dec-917d-168f63f752bd",
   "metadata": {
    "scrolled": true,
    "tags": []
   },
   "outputs": [
    {
     "name": "stdout",
     "output_type": "stream",
     "text": [
      "17536  done\n",
      "17522  done\n",
      "17510  done\n",
      "17401  done\n",
      "17368  done\n",
      "17088  done\n",
      "16755  done\n",
      "16742  done\n",
      "16649  done\n",
      "16644  done\n",
      "16624  done\n",
      "16589  done\n",
      "16571  done\n",
      "16536  done\n",
      "16532  done\n",
      "16516  done\n",
      "16480  done\n",
      "16425  done\n",
      "16280  done\n",
      "16263  done\n",
      "15934  done\n",
      "15873  done\n",
      "15869  done\n",
      "15849  done\n",
      "15839  done\n",
      "15763  done\n",
      "15739  done\n",
      "15704  done\n",
      "15572  done\n",
      "15560  done\n",
      "15558  done\n",
      "15539  done\n",
      "15493  done\n",
      "15484  done\n",
      "15463  done\n",
      "15461  done\n",
      "15334  done\n",
      "15221  done\n",
      "15215  done\n",
      "15126  done\n",
      "15019  done\n",
      "15005  done\n",
      "14965  done\n",
      "14961  done\n",
      "14947  done\n",
      "14932  done\n",
      "14902  done\n",
      "14886  done\n",
      "14865  done\n",
      "14804  done\n",
      "14797  done\n",
      "14767  done\n",
      "14757  done\n",
      "14722  done\n",
      "14710  done\n",
      "14573  done\n",
      "14452  done\n",
      "14449  done\n",
      "14385  done\n",
      "14379  done\n",
      "14377  done\n",
      "14224  done\n",
      "14073  done\n",
      "14055  done\n",
      "13850  done\n",
      "13840  done\n",
      "13808  done\n",
      "13738  done\n",
      "13678  done\n",
      "13662  done\n",
      "13660  done\n",
      "13630  done\n",
      "13558  done\n",
      "12826  done\n",
      "12686  done\n",
      "12626  done\n",
      "12615  done\n",
      "12606  done\n",
      "12187  done\n",
      "12088  done\n",
      "12078  done\n",
      "12070  done\n",
      "12052  done\n",
      "12041  done\n",
      "11993  done\n",
      "11952  done\n",
      "11892  done\n",
      "11379  done\n",
      "10999  done\n",
      "10991  done\n",
      "10961  done\n",
      "10850  done\n",
      "10835  done\n",
      "10769  done\n",
      "10658  done\n",
      "10625  done\n",
      "10601  done\n",
      "10597  done\n",
      "10459  done\n",
      "10395  done\n",
      "10384  done\n",
      "10336  done\n",
      "10320  done\n",
      "10302  done\n",
      "10286  done\n",
      "10190  done\n",
      "10182  done\n",
      "9828  done\n",
      "9670  done\n",
      "9632  done\n",
      "9624  done\n",
      "9582  done\n",
      "9563  done\n",
      "9560  done\n",
      "9408  done\n",
      "9325  done\n",
      "9321  done\n",
      "9274  done\n",
      "9254  done\n",
      "9242  done\n",
      "9206  done\n",
      "9172  done\n",
      "9144  done\n",
      "9139  done\n",
      "9131  done\n",
      "9079  done\n",
      "9060  done\n",
      "9056  done\n",
      "9036  done\n",
      "8995  done\n",
      "8934  done\n",
      "8877  done\n",
      "8837  done\n",
      "8775  done\n",
      "8754  done\n",
      "8714  done\n",
      "8657  done\n",
      "8653  done\n",
      "8548  done\n",
      "8468  done\n",
      "8365  done\n",
      "8343  done\n",
      "8197  done\n",
      "8005  done\n",
      "8003  done\n",
      "7991  done\n",
      "7987  done\n",
      "7872  done\n",
      "7836  done\n",
      "7762  done\n",
      "7653  done\n",
      "7599  done\n",
      "7582  done\n",
      "7555  done\n",
      "7541  done\n",
      "7500  done\n",
      "7042  done\n",
      "7012  done\n",
      "6920  done\n",
      "6894  done\n",
      "6880  done\n",
      "6810  done\n",
      "6773  done\n",
      "6704  done\n",
      "6595  done\n",
      "6578  done\n",
      "6577  done\n",
      "6572  done\n",
      "6524  done\n",
      "6419  done\n",
      "6326  done\n",
      "6323  done\n",
      "6288  done\n",
      "6215  done\n",
      "6186  done\n",
      "6165  done\n",
      "6147  done\n",
      "6119  done\n",
      "6065  done\n",
      "6025  done\n"
     ]
    }
   ],
   "source": [
    "t1 = time.time()\n",
    "with open(json_file, 'r') as f:\n",
    "    data = json.load(f)\n",
    "\n",
    "rem_ques = ['What was the remediation?', 'What steps were taken?', 'How was the issue resolved?','How was the problem fixed?']\n",
    "rem_dict = {}\n",
    "for cso in list(data.keys())[:-2]:\n",
    "    max_score = 0\n",
    "    rem = 'None'\n",
    "    if (data[cso]['problems'][0]['u_permanent_solution'] == None) or (BeautifulSoup(data[cso]['problems'][0]['u_permanent_solution']).get_text() == ''):\n",
    "        x = \"None\"\n",
    "    else:\n",
    "        x = BeautifulSoup(data[cso]['problems'][0]['u_permanent_solution']).get_text().replace('\\n',' ').replace('\\r',' ').replace('\\xa0',' ')\n",
    "\n",
    "    trial = {}\n",
    "    trial['context'] = x\n",
    "\n",
    "    for i in rem_ques:\n",
    "        trial['question'] = i\n",
    "        ans = roberta_model(trial)\n",
    "        if ans['score']>max_score:\n",
    "            rem = ans['answer']\n",
    "            max_score = ans['score']\n",
    "    rem_dict[int(cso)] = rem\n",
    "    print(cso, \" done\")\n",
    "rem_time = time.time()-t1"
   ]
  },
  {
   "cell_type": "code",
   "execution_count": 7,
   "id": "5c479efe-387a-4784-8520-2427d1674991",
   "metadata": {},
   "outputs": [
    {
     "data": {
      "text/plain": [
       "180"
      ]
     },
     "execution_count": 7,
     "metadata": {},
     "output_type": "execute_result"
    }
   ],
   "source": [
    "len(rem_dict)"
   ]
  },
  {
   "cell_type": "markdown",
   "id": "20d8106f-b517-4312-9c7a-5654d0a08ea2",
   "metadata": {
    "tags": []
   },
   "source": [
    "## Symptom Extraction"
   ]
  },
  {
   "cell_type": "code",
   "execution_count": 8,
   "id": "b104e6f6-4c1a-4c76-b77a-24cc6e725646",
   "metadata": {},
   "outputs": [],
   "source": [
    "sym_dict = {}\n",
    "for i in list(data.keys())[:-2]:\n",
    "    sym_dict[int(i)] = re.sub(r'http\\S+', ' ', BeautifulSoup(data[i]['primaryIncident']['u_customer_impacts']).get_text().replace('\\n',' ').replace('\\r',' ').replace('\\xa0',' '))"
   ]
  },
  {
   "cell_type": "code",
   "execution_count": 9,
   "id": "29cd865f-a770-4409-8a0a-d661e566e92b",
   "metadata": {},
   "outputs": [
    {
     "data": {
      "text/plain": [
       "180"
      ]
     },
     "execution_count": 9,
     "metadata": {},
     "output_type": "execute_result"
    }
   ],
   "source": [
    "len(sym_dict)"
   ]
  },
  {
   "cell_type": "markdown",
   "id": "374327f3-9b21-4dc7-9edc-6a381414cd4e",
   "metadata": {
    "tags": []
   },
   "source": [
    "## Exporting to CSV Sheet"
   ]
  },
  {
   "cell_type": "code",
   "execution_count": 10,
   "id": "c0fc3a59-6821-4f0a-8fa5-41f681094511",
   "metadata": {
    "scrolled": true,
    "tags": []
   },
   "outputs": [],
   "source": [
    "df_dict = {\n",
    "    'cso_number':[],\n",
    "    'symptom':[],\n",
    "    'root_cause':[],\n",
    "    'remediations':[]\n",
    "}"
   ]
  },
  {
   "cell_type": "code",
   "execution_count": 11,
   "id": "f72f38a7-07f8-4856-8edb-6af42a1b491c",
   "metadata": {},
   "outputs": [],
   "source": [
    "for cso in list(data.keys())[:-2]:\n",
    "    cso_number = int(cso)\n",
    "    df_dict['cso_number'].append(cso_number)\n",
    "    df_dict['symptom'].append(sym_dict[cso_number])\n",
    "    df_dict['root_cause'].append(rc_dict[cso_number])\n",
    "    df_dict['remediations'].append(rem_dict[cso_number])"
   ]
  },
  {
   "cell_type": "code",
   "execution_count": 12,
   "id": "07428810-c4e2-4460-90a6-506bf3c3aab3",
   "metadata": {},
   "outputs": [],
   "source": [
    "cso_df = pd.DataFrame(df_dict)\n",
    "cso_df.to_csv('./CSO_data/CSO_salesforce_extracted_entities.csv')"
   ]
  },
  {
   "cell_type": "code",
   "execution_count": 13,
   "id": "01a14ba0-6018-47ac-8049-94e5ee871a96",
   "metadata": {},
   "outputs": [
    {
     "data": {
      "text/html": [
       "<div>\n",
       "<style scoped>\n",
       "    .dataframe tbody tr th:only-of-type {\n",
       "        vertical-align: middle;\n",
       "    }\n",
       "\n",
       "    .dataframe tbody tr th {\n",
       "        vertical-align: top;\n",
       "    }\n",
       "\n",
       "    .dataframe thead th {\n",
       "        text-align: right;\n",
       "    }\n",
       "</style>\n",
       "<table border=\"1\" class=\"dataframe\">\n",
       "  <thead>\n",
       "    <tr style=\"text-align: right;\">\n",
       "      <th></th>\n",
       "      <th>cso_number</th>\n",
       "      <th>symptom</th>\n",
       "      <th>root_cause</th>\n",
       "      <th>remediations</th>\n",
       "    </tr>\n",
       "  </thead>\n",
       "  <tbody>\n",
       "    <tr>\n",
       "      <th>0</th>\n",
       "      <td>17536</td>\n",
       "      <td>Between 2022-05-25 at 22:55 UTC and 2022-05-26...</td>\n",
       "      <td>implemented a change to get email connected in...</td>\n",
       "      <td>None</td>\n",
       "    </tr>\n",
       "    <tr>\n",
       "      <th>1</th>\n",
       "      <td>17522</td>\n",
       "      <td>Starting on 2022-05-24 between 11:29 UTC to 11...</td>\n",
       "      <td>canary deployment</td>\n",
       "      <td>None</td>\n",
       "    </tr>\n",
       "    <tr>\n",
       "      <th>2</th>\n",
       "      <td>17510</td>\n",
       "      <td>Starting on 2022-05-18 08:30 UTC and ending at...</td>\n",
       "      <td>misstep in converting from the sign v5 to v6 apis</td>\n",
       "      <td>1. review the manual testing procedure with te...</td>\n",
       "    </tr>\n",
       "    <tr>\n",
       "      <th>3</th>\n",
       "      <td>17401</td>\n",
       "      <td>On 2022-05-06, between 07:19 UTC and 07:36 UTC...</td>\n",
       "      <td>Termination of box from AWS console</td>\n",
       "      <td>Validate alerting for nameservice tier</td>\n",
       "    </tr>\n",
       "    <tr>\n",
       "      <th>4</th>\n",
       "      <td>17368</td>\n",
       "      <td>On 2022-04-28 between 08:00 UTC and 16:12 UTC,...</td>\n",
       "      <td>known behavior of the JMS message clients</td>\n",
       "      <td>message handling</td>\n",
       "    </tr>\n",
       "    <tr>\n",
       "      <th>...</th>\n",
       "      <td>...</td>\n",
       "      <td>...</td>\n",
       "      <td>...</td>\n",
       "      <td>...</td>\n",
       "    </tr>\n",
       "    <tr>\n",
       "      <th>175</th>\n",
       "      <td>6165</td>\n",
       "      <td>Between 3:59 AM PT and 4:02 AM PT, the Adobe S...</td>\n",
       "      <td>execution of a database ALTER statement</td>\n",
       "      <td>Add a lock timeout to ALTER ENUM statements</td>\n",
       "    </tr>\n",
       "    <tr>\n",
       "      <th>176</th>\n",
       "      <td>6147</td>\n",
       "      <td>Between 2:53 PM and 4:13 PM PT, Adobe Sign Mic...</td>\n",
       "      <td>degradation</td>\n",
       "      <td>ASR</td>\n",
       "    </tr>\n",
       "    <tr>\n",
       "      <th>177</th>\n",
       "      <td>6119</td>\n",
       "      <td>Between 13:37 PT and  22:15 PT, 214 requests o...</td>\n",
       "      <td>periodic smoke tests were failing</td>\n",
       "      <td>autoscaling</td>\n",
       "    </tr>\n",
       "    <tr>\n",
       "      <th>178</th>\n",
       "      <td>6065</td>\n",
       "      <td>The issue causing impact has been resolved and...</td>\n",
       "      <td>Outage</td>\n",
       "      <td>No permanent solution being implemented</td>\n",
       "    </tr>\n",
       "    <tr>\n",
       "      <th>179</th>\n",
       "      <td>6025</td>\n",
       "      <td>Between at 7:57 AM and 9:04 AM PT, some Adobe ...</td>\n",
       "      <td>error responses to API calls from Adobe Sign</td>\n",
       "      <td>deploy additional functionality to our rate li...</td>\n",
       "    </tr>\n",
       "  </tbody>\n",
       "</table>\n",
       "<p>180 rows × 4 columns</p>\n",
       "</div>"
      ],
      "text/plain": [
       "     cso_number                                            symptom  \\\n",
       "0         17536  Between 2022-05-25 at 22:55 UTC and 2022-05-26...   \n",
       "1         17522  Starting on 2022-05-24 between 11:29 UTC to 11...   \n",
       "2         17510  Starting on 2022-05-18 08:30 UTC and ending at...   \n",
       "3         17401  On 2022-05-06, between 07:19 UTC and 07:36 UTC...   \n",
       "4         17368  On 2022-04-28 between 08:00 UTC and 16:12 UTC,...   \n",
       "..          ...                                                ...   \n",
       "175        6165  Between 3:59 AM PT and 4:02 AM PT, the Adobe S...   \n",
       "176        6147  Between 2:53 PM and 4:13 PM PT, Adobe Sign Mic...   \n",
       "177        6119  Between 13:37 PT and  22:15 PT, 214 requests o...   \n",
       "178        6065  The issue causing impact has been resolved and...   \n",
       "179        6025  Between at 7:57 AM and 9:04 AM PT, some Adobe ...   \n",
       "\n",
       "                                            root_cause  \\\n",
       "0    implemented a change to get email connected in...   \n",
       "1                                    canary deployment   \n",
       "2    misstep in converting from the sign v5 to v6 apis   \n",
       "3                  Termination of box from AWS console   \n",
       "4            known behavior of the JMS message clients   \n",
       "..                                                 ...   \n",
       "175            execution of a database ALTER statement   \n",
       "176                                        degradation   \n",
       "177                  periodic smoke tests were failing   \n",
       "178                                             Outage   \n",
       "179       error responses to API calls from Adobe Sign   \n",
       "\n",
       "                                          remediations  \n",
       "0                                                 None  \n",
       "1                                                 None  \n",
       "2    1. review the manual testing procedure with te...  \n",
       "3               Validate alerting for nameservice tier  \n",
       "4                                     message handling  \n",
       "..                                                 ...  \n",
       "175        Add a lock timeout to ALTER ENUM statements  \n",
       "176                                                ASR  \n",
       "177                                        autoscaling  \n",
       "178            No permanent solution being implemented  \n",
       "179  deploy additional functionality to our rate li...  \n",
       "\n",
       "[180 rows x 4 columns]"
      ]
     },
     "execution_count": 13,
     "metadata": {},
     "output_type": "execute_result"
    }
   ],
   "source": [
    "cso_df"
   ]
  },
  {
   "cell_type": "code",
   "execution_count": null,
   "id": "d9d0acb4-00a0-49b1-8162-b52be9145ea4",
   "metadata": {},
   "outputs": [],
   "source": []
  }
 ],
 "metadata": {
  "kernelspec": {
   "display_name": "Python 3",
   "language": "python",
   "name": "python3"
  },
  "language_info": {
   "codemirror_mode": {
    "name": "ipython",
    "version": 3
   },
   "file_extension": ".py",
   "mimetype": "text/x-python",
   "name": "python",
   "nbconvert_exporter": "python",
   "pygments_lexer": "ipython3",
   "version": "3.8.12"
  }
 },
 "nbformat": 4,
 "nbformat_minor": 5
}
