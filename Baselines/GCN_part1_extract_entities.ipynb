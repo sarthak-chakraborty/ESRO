{
 "cells": [
  {
   "cell_type": "markdown",
   "id": "dbe9b0b3-53df-42d0-aea7-eafcc90dfc2c",
   "metadata": {},
   "source": [
    "# Information Extraction as described in Section 3.1 of Salesforce Paper"
   ]
  },
  {
   "cell_type": "markdown",
   "id": "a0bfdc1c-30d4-47fc-894f-a7e185ed017b",
   "metadata": {},
   "source": [
    "## Importing Packages and Files"
   ]
  },
  {
   "cell_type": "code",
   "execution_count": 1,
   "id": "d33b45d0-550a-4922-91fd-e49e242c8b32",
   "metadata": {},
   "outputs": [],
   "source": [
    "import os\n",
    "import json\n",
    "import pandas as pd\n",
    "from io import StringIO\n",
    "import html\n",
    "from html.parser import HTMLParser\n",
    "import time\n",
    "from bs4 import BeautifulSoup\n",
    "import re"
   ]
  },
  {
   "cell_type": "code",
   "execution_count": null,
   "id": "820a34f5-026a-415b-8635-196f6f7ce19d",
   "metadata": {
    "tags": []
   },
   "outputs": [],
   "source": [
    "from transformers import AutoModelForQuestionAnswering, AutoTokenizer, pipeline\n",
    "model_name = \"deepset/roberta-base-squad2\"\n",
    "roberta_model = pipeline('question-answering', model=model_name, tokenizer=model_name)"
   ]
  },
  {
   "cell_type": "code",
   "execution_count": 3,
   "id": "fc3b09d2-e11b-4e7d-9655-ce6362042904",
   "metadata": {},
   "outputs": [],
   "source": [
    "json_file = './CSO_data/CSO.json'"
   ]
  },
  {
   "cell_type": "markdown",
   "id": "73efe576-6706-44fa-896e-9f0ad1e88aff",
   "metadata": {
    "tags": []
   },
   "source": [
    "## Cleaning Functions"
   ]
  },
  {
   "cell_type": "markdown",
   "id": "e69a88a1-1df2-45c6-8efa-57f33385d0f8",
   "metadata": {
    "tags": []
   },
   "source": [
    "## RC Extraction"
   ]
  },
  {
   "cell_type": "code",
   "execution_count": null,
   "id": "9510253c-2c23-43e9-b6a3-07e6c8761625",
   "metadata": {
    "scrolled": true,
    "tags": []
   },
   "outputs": [],
   "source": [
    "t = time.time()\n",
    "with open(json_file, 'r') as f:\n",
    "    data = json.load(f)\n",
    "\n",
    "rc_ques = ['What was the root cause?', 'What was the root cause of the CSO?', 'What caused the CSO?', 'Why did CSO occur?', 'What was the root cause of the incident?', 'What caused the incident?', 'Why did incident occur?']\n",
    "rc_dict = {}\n",
    "for cso in list(data.keys())[:-2]:\n",
    "    max_score = 0\n",
    "    rc = 'None'\n",
    "    if (data[cso]['problems'][0]['u_root_cause_description']== None) or (data[cso]['problems'][0]['u_root_cause_description']==''):\n",
    "        x = \"None\"\n",
    "    else:\n",
    "        x = BeautifulSoup(data[cso]['problems'][0]['u_root_cause_description']).get_text().replace('\\n',' ').replace('\\r',' ').replace('\\xa0',' ')\n",
    "\n",
    "    trial = {}\n",
    "    trial['context'] = x\n",
    "\n",
    "    for i in rc_ques:\n",
    "        trial['question'] = i\n",
    "        ans = roberta_model(trial)\n",
    "        if ans['score']>max_score:\n",
    "            rc = ans['answer']\n",
    "            max_score = ans['score']\n",
    "    rc_dict[int(cso)] = rc\n",
    "    print(cso, \" done\")\n",
    "rc_time = time.time()-t"
   ]
  },
  {
   "cell_type": "code",
   "execution_count": 5,
   "id": "cef30467-def7-4f7e-8aef-c64587a17f1c",
   "metadata": {},
   "outputs": [
    {
     "data": {
      "text/plain": [
       "180"
      ]
     },
     "execution_count": 5,
     "metadata": {},
     "output_type": "execute_result"
    }
   ],
   "source": [
    "len(rc_dict)"
   ]
  },
  {
   "cell_type": "markdown",
   "id": "34d0aa64-a151-411d-8e70-20a865e59d0a",
   "metadata": {
    "tags": []
   },
   "source": [
    "## Rem Extraction"
   ]
  },
  {
   "cell_type": "code",
   "execution_count": null,
   "id": "3df81d81-24da-4dec-917d-168f63f752bd",
   "metadata": {
    "scrolled": true,
    "tags": []
   },
   "outputs": [],
   "source": [
    "t1 = time.time()\n",
    "with open(json_file, 'r') as f:\n",
    "    data = json.load(f)\n",
    "\n",
    "rem_ques = ['What was the remediation?', 'What steps were taken?', 'How was the issue resolved?','How was the problem fixed?']\n",
    "rem_dict = {}\n",
    "for cso in list(data.keys())[:-2]:\n",
    "    max_score = 0\n",
    "    rem = 'None'\n",
    "    if (data[cso]['problems'][0]['u_permanent_solution'] == None) or (BeautifulSoup(data[cso]['problems'][0]['u_permanent_solution']).get_text() == ''):\n",
    "        x = \"None\"\n",
    "    else:\n",
    "        x = BeautifulSoup(data[cso]['problems'][0]['u_permanent_solution']).get_text().replace('\\n',' ').replace('\\r',' ').replace('\\xa0',' ')\n",
    "\n",
    "    trial = {}\n",
    "    trial['context'] = x\n",
    "\n",
    "    for i in rem_ques:\n",
    "        trial['question'] = i\n",
    "        ans = roberta_model(trial)\n",
    "        if ans['score']>max_score:\n",
    "            rem = ans['answer']\n",
    "            max_score = ans['score']\n",
    "    rem_dict[int(cso)] = rem\n",
    "    print(cso, \" done\")\n",
    "rem_time = time.time()-t1"
   ]
  },
  {
   "cell_type": "code",
   "execution_count": 7,
   "id": "5c479efe-387a-4784-8520-2427d1674991",
   "metadata": {},
   "outputs": [
    {
     "data": {
      "text/plain": [
       "180"
      ]
     },
     "execution_count": 7,
     "metadata": {},
     "output_type": "execute_result"
    }
   ],
   "source": [
    "len(rem_dict)"
   ]
  },
  {
   "cell_type": "markdown",
   "id": "20d8106f-b517-4312-9c7a-5654d0a08ea2",
   "metadata": {
    "tags": []
   },
   "source": [
    "## Symptom Extraction"
   ]
  },
  {
   "cell_type": "code",
   "execution_count": 8,
   "id": "b104e6f6-4c1a-4c76-b77a-24cc6e725646",
   "metadata": {},
   "outputs": [],
   "source": [
    "sym_dict = {}\n",
    "for i in list(data.keys())[:-2]:\n",
    "    sym_dict[int(i)] = re.sub(r'http\\S+', ' ', BeautifulSoup(data[i]['primaryIncident']['u_customer_impacts']).get_text().replace('\\n',' ').replace('\\r',' ').replace('\\xa0',' '))"
   ]
  },
  {
   "cell_type": "code",
   "execution_count": 9,
   "id": "29cd865f-a770-4409-8a0a-d661e566e92b",
   "metadata": {},
   "outputs": [
    {
     "data": {
      "text/plain": [
       "180"
      ]
     },
     "execution_count": 9,
     "metadata": {},
     "output_type": "execute_result"
    }
   ],
   "source": [
    "len(sym_dict)"
   ]
  },
  {
   "cell_type": "markdown",
   "id": "374327f3-9b21-4dc7-9edc-6a381414cd4e",
   "metadata": {
    "tags": []
   },
   "source": [
    "## Exporting to CSV Sheet"
   ]
  },
  {
   "cell_type": "code",
   "execution_count": 10,
   "id": "c0fc3a59-6821-4f0a-8fa5-41f681094511",
   "metadata": {
    "scrolled": true,
    "tags": []
   },
   "outputs": [],
   "source": [
    "df_dict = {\n",
    "    'cso_number':[],\n",
    "    'symptom':[],\n",
    "    'root_cause':[],\n",
    "    'remediations':[]\n",
    "}"
   ]
  },
  {
   "cell_type": "code",
   "execution_count": 11,
   "id": "f72f38a7-07f8-4856-8edb-6af42a1b491c",
   "metadata": {},
   "outputs": [],
   "source": [
    "for cso in list(data.keys())[:-2]:\n",
    "    cso_number = int(cso)\n",
    "    df_dict['cso_number'].append(cso_number)\n",
    "    df_dict['symptom'].append(sym_dict[cso_number])\n",
    "    df_dict['root_cause'].append(rc_dict[cso_number])\n",
    "    df_dict['remediations'].append(rem_dict[cso_number])"
   ]
  },
  {
   "cell_type": "code",
   "execution_count": 12,
   "id": "07428810-c4e2-4460-90a6-506bf3c3aab3",
   "metadata": {},
   "outputs": [],
   "source": [
    "cso_df = pd.DataFrame(df_dict)\n",
    "cso_df.to_csv('./CSO_data/CSO_salesforce_extracted_entities.csv')"
   ]
  },
  {
   "cell_type": "code",
   "execution_count": null,
   "id": "d9d0acb4-00a0-49b1-8162-b52be9145ea4",
   "metadata": {},
   "outputs": [],
   "source": []
  }
 ],
 "metadata": {
  "kernelspec": {
   "display_name": "Python 3",
   "language": "python",
   "name": "python3"
  },
  "language_info": {
   "codemirror_mode": {
    "name": "ipython",
    "version": 3
   },
   "file_extension": ".py",
   "mimetype": "text/x-python",
   "name": "python",
   "nbconvert_exporter": "python",
   "pygments_lexer": "ipython3",
   "version": "3.8.12"
  }
 },
 "nbformat": 4,
 "nbformat_minor": 5
}
