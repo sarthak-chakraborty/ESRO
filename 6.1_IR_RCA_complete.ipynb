{
 "cells": [
  {
   "cell_type": "markdown",
   "id": "13876959-877d-477c-a7a2-b5b55c72a4da",
   "metadata": {},
   "source": [
    "### Import packages"
   ]
  },
  {
   "cell_type": "code",
   "execution_count": 46,
   "id": "a695be5c-0514-4827-90ef-75afcf96216d",
   "metadata": {},
   "outputs": [],
   "source": [
    "import json\n",
    "import numpy as np\n",
    "import pandas as pd\n",
    "import os\n",
    "import progressbar\n",
    "import sys\n",
    "from copy import deepcopy\n",
    "import faiss"
   ]
  },
  {
   "cell_type": "markdown",
   "id": "39c7cd78-5d3f-4ead-a813-c6d8a17e9273",
   "metadata": {},
   "source": [
    "## Implementation of incident search and RCA (with extracted symptoms)"
   ]
  },
  {
   "cell_type": "markdown",
   "id": "b5a4692f-31c9-42c8-ac93-5985867ec258",
   "metadata": {
    "tags": []
   },
   "source": [
    "#### 1 ) Collecting Entities to create the database"
   ]
  },
  {
   "cell_type": "code",
   "execution_count": 2,
   "id": "31691861-ad16-44f6-a63f-9c739bef8db7",
   "metadata": {},
   "outputs": [],
   "source": [
    "df = pd.read_csv('./CSO_data/'+ 'CSO_entities_ensembled_Sign_bart-large-cnn-samsum.csv', index_col=0)"
   ]
  },
  {
   "cell_type": "code",
   "execution_count": 3,
   "id": "845d7f4d-a640-49db-9745-de2749adf1b0",
   "metadata": {},
   "outputs": [
    {
     "data": {
      "text/html": [
       "<div>\n",
       "<style scoped>\n",
       "    .dataframe tbody tr th:only-of-type {\n",
       "        vertical-align: middle;\n",
       "    }\n",
       "\n",
       "    .dataframe tbody tr th {\n",
       "        vertical-align: top;\n",
       "    }\n",
       "\n",
       "    .dataframe thead th {\n",
       "        text-align: right;\n",
       "    }\n",
       "</style>\n",
       "<table border=\"1\" class=\"dataframe\">\n",
       "  <thead>\n",
       "    <tr style=\"text-align: right;\">\n",
       "      <th></th>\n",
       "      <th>cso_number</th>\n",
       "      <th>symptom</th>\n",
       "      <th>root_cause</th>\n",
       "      <th>remediations</th>\n",
       "      <th>description</th>\n",
       "      <th>short_description</th>\n",
       "      <th>affected_services</th>\n",
       "      <th>child_cso</th>\n",
       "      <th>short_term_fix</th>\n",
       "      <th>customer_impacts</th>\n",
       "    </tr>\n",
       "  </thead>\n",
       "  <tbody>\n",
       "    <tr>\n",
       "      <th>0</th>\n",
       "      <td>17536</td>\n",
       "      <td>The Adobe Sign Customized Email Template (CEMT...</td>\n",
       "      <td>Sign Business Intelligence team implemented a ...</td>\n",
       "      <td>There are none.</td>\n",
       "      <td>Adobe Sign Customized Email Template users are...</td>\n",
       "      <td>Adobe Sign - Customized Email Template microse...</td>\n",
       "      <td>316391, 320691</td>\n",
       "      <td>NaN</td>\n",
       "      <td>The BI change was rolled back and APO team cle...</td>\n",
       "      <td>Customized Email Template (CEMT) microservice ...</td>\n",
       "    </tr>\n",
       "    <tr>\n",
       "      <th>1</th>\n",
       "      <td>17522</td>\n",
       "      <td>Starting on 2022-05-24 between 11:29 UTC and 1...</td>\n",
       "      <td>canary deployment.</td>\n",
       "      <td>There are none.</td>\n",
       "      <td>Incident description: Cloudwatch check for 5xx...</td>\n",
       "      <td>Identity Management Services</td>\n",
       "      <td>318561, 318560, 318205, 321727, 320998, 321962...</td>\n",
       "      <td>NaN</td>\n",
       "      <td>There will be a rollback of the rollback.</td>\n",
       "      <td>downstream services could have experience re-...</td>\n",
       "    </tr>\n",
       "    <tr>\n",
       "      <th>2</th>\n",
       "      <td>17510</td>\n",
       "      <td>Microsoft Office365 Provider microservice expo...</td>\n",
       "      <td>The problem was caused by a misstep in convert...</td>\n",
       "      <td>Review the manual testing procedure with team ...</td>\n",
       "      <td>Microsoft Office365 Provider unable to run com...</td>\n",
       "      <td>Microsoft Office365 Provider</td>\n",
       "      <td>317501</td>\n",
       "      <td>NaN</td>\n",
       "      <td>the data structure that is called.</td>\n",
       "      <td>Some commands in the Microsoft Office365 Provi...</td>\n",
       "    </tr>\n",
       "    <tr>\n",
       "      <th>3</th>\n",
       "      <td>17401</td>\n",
       "      <td>Some Adobe Sign users might have been unable t...</td>\n",
       "      <td>Some North America Adobe Sign users might have...</td>\n",
       "      <td>Review the SOP for DB nodes upgrades. Validate...</td>\n",
       "      <td>Incident description: Adobe Sign NA2 Compose P...</td>\n",
       "      <td>Adobe Sign North America 2</td>\n",
       "      <td>321671, 323232, 321670, 323231, 323230, 317791...</td>\n",
       "      <td>17402</td>\n",
       "      <td>was set as primary node.</td>\n",
       "      <td>Some North America Adobe Sign users might have...</td>\n",
       "    </tr>\n",
       "    <tr>\n",
       "      <th>4</th>\n",
       "      <td>17368</td>\n",
       "      <td>The PDFcombiner worker for Sign North America ...</td>\n",
       "      <td>The Sign service operates as a distributed sys...</td>\n",
       "      <td>There is an underlying bug in JMS message hand...</td>\n",
       "      <td>Agreements are getting stuck</td>\n",
       "      <td>Adobe Sign - Adobe Sign North America 3</td>\n",
       "      <td>322299, 318358</td>\n",
       "      <td>NaN</td>\n",
       "      <td>instances were restarted.</td>\n",
       "      <td>3900 requests expired during the impact window...</td>\n",
       "    </tr>\n",
       "  </tbody>\n",
       "</table>\n",
       "</div>"
      ],
      "text/plain": [
       "   cso_number                                            symptom  \\\n",
       "0       17536  The Adobe Sign Customized Email Template (CEMT...   \n",
       "1       17522  Starting on 2022-05-24 between 11:29 UTC and 1...   \n",
       "2       17510  Microsoft Office365 Provider microservice expo...   \n",
       "3       17401  Some Adobe Sign users might have been unable t...   \n",
       "4       17368  The PDFcombiner worker for Sign North America ...   \n",
       "\n",
       "                                          root_cause  \\\n",
       "0  Sign Business Intelligence team implemented a ...   \n",
       "1                                 canary deployment.   \n",
       "2  The problem was caused by a misstep in convert...   \n",
       "3  Some North America Adobe Sign users might have...   \n",
       "4  The Sign service operates as a distributed sys...   \n",
       "\n",
       "                                        remediations  \\\n",
       "0                                    There are none.   \n",
       "1                                    There are none.   \n",
       "2  Review the manual testing procedure with team ...   \n",
       "3  Review the SOP for DB nodes upgrades. Validate...   \n",
       "4  There is an underlying bug in JMS message hand...   \n",
       "\n",
       "                                         description  \\\n",
       "0  Adobe Sign Customized Email Template users are...   \n",
       "1  Incident description: Cloudwatch check for 5xx...   \n",
       "2  Microsoft Office365 Provider unable to run com...   \n",
       "3  Incident description: Adobe Sign NA2 Compose P...   \n",
       "4                       Agreements are getting stuck   \n",
       "\n",
       "                                   short_description  \\\n",
       "0  Adobe Sign - Customized Email Template microse...   \n",
       "1                       Identity Management Services   \n",
       "2                       Microsoft Office365 Provider   \n",
       "3                         Adobe Sign North America 2   \n",
       "4            Adobe Sign - Adobe Sign North America 3   \n",
       "\n",
       "                                   affected_services child_cso  \\\n",
       "0                                     316391, 320691       NaN   \n",
       "1  318561, 318560, 318205, 321727, 320998, 321962...       NaN   \n",
       "2                                             317501       NaN   \n",
       "3  321671, 323232, 321670, 323231, 323230, 317791...     17402   \n",
       "4                                     322299, 318358       NaN   \n",
       "\n",
       "                                      short_term_fix  \\\n",
       "0  The BI change was rolled back and APO team cle...   \n",
       "1          There will be a rollback of the rollback.   \n",
       "2                 the data structure that is called.   \n",
       "3                           was set as primary node.   \n",
       "4                          instances were restarted.   \n",
       "\n",
       "                                    customer_impacts  \n",
       "0  Customized Email Template (CEMT) microservice ...  \n",
       "1   downstream services could have experience re-...  \n",
       "2  Some commands in the Microsoft Office365 Provi...  \n",
       "3  Some North America Adobe Sign users might have...  \n",
       "4  3900 requests expired during the impact window...  "
      ]
     },
     "execution_count": 3,
     "metadata": {},
     "output_type": "execute_result"
    }
   ],
   "source": [
    "df.head()"
   ]
  },
  {
   "cell_type": "code",
   "execution_count": 49,
   "id": "c09741fd-0575-46c5-9435-331ff84dfaec",
   "metadata": {},
   "outputs": [],
   "source": [
    "from transformers import pipeline\n",
    "from transformers import RobertaTokenizer, RobertaModel\n",
    "import torch"
   ]
  },
  {
   "cell_type": "code",
   "execution_count": 50,
   "id": "dbc43df5-c9c4-4d66-9734-30399c146dbc",
   "metadata": {},
   "outputs": [
    {
     "name": "stderr",
     "output_type": "stream",
     "text": [
      "Some weights of the model checkpoint at roberta-large were not used when initializing RobertaModel: ['lm_head.decoder.weight', 'lm_head.layer_norm.weight', 'lm_head.dense.weight', 'lm_head.bias', 'lm_head.dense.bias', 'lm_head.layer_norm.bias']\n",
      "- This IS expected if you are initializing RobertaModel from the checkpoint of a model trained on another task or with another architecture (e.g. initializing a BertForSequenceClassification model from a BertForPreTraining model).\n",
      "- This IS NOT expected if you are initializing RobertaModel from the checkpoint of a model that you expect to be exactly identical (initializing a BertForSequenceClassification model from a BertForSequenceClassification model).\n"
     ]
    }
   ],
   "source": [
    "tokenizer = RobertaTokenizer.from_pretrained('roberta-large')\n",
    "model = RobertaModel.from_pretrained('roberta-large')\n"
   ]
  },
  {
   "cell_type": "code",
   "execution_count": 95,
   "id": "030e40b1-e7b2-4893-9dd3-8f3e8fd80360",
   "metadata": {},
   "outputs": [],
   "source": [
    "entities1 = ['symptom'] #, 'customer_impacts', 'short_description', 'description', 'remediations', 'root_cause', 'short_term_fix']\n",
    "\n",
    "def embed_sentences():\n",
    "    global sent_embed\n",
    "    sent_embed = {}\n",
    "    \n",
    "    i = 0\n",
    "    for cso in df['cso_number']:\n",
    "        for entity in entities1:\n",
    "            try:\n",
    "                text = df[df['cso_number'] == cso][entity].iloc[0]\n",
    "                text = text.strip()\n",
    "                input_ids = torch.tensor(tokenizer.encode(text, add_special_tokens=True)).unsqueeze(0)\n",
    "                with torch.no_grad():\n",
    "                    outputs = model(input_ids)\n",
    "                    last_hidden_states = outputs[0]\n",
    "                \n",
    "                token_embeddings = torch.squeeze(last_hidden_states, dim=0)\n",
    "                sentence_embed = torch.mean(token_embeddings, axis=0).numpy()\n",
    "                sent_dict = {'cso': cso, 'sent': text, 'embed': sentence_embed, 'tag': entity}\n",
    "                sent_embed[i] = sent_dict\n",
    "                i += 1\n",
    "            except:\n",
    "                pass"
   ]
  },
  {
   "cell_type": "code",
   "execution_count": 96,
   "id": "7e99a7d4-9611-4615-8c11-e01b47fb7f60",
   "metadata": {},
   "outputs": [],
   "source": [
    "embed_sentences()"
   ]
  },
  {
   "cell_type": "code",
   "execution_count": 97,
   "id": "d781ca0f-0404-4672-84b7-08955dd99be6",
   "metadata": {},
   "outputs": [
    {
     "data": {
      "text/plain": [
       "182"
      ]
     },
     "execution_count": 97,
     "metadata": {},
     "output_type": "execute_result"
    }
   ],
   "source": [
    "len(sent_embed)"
   ]
  },
  {
   "cell_type": "code",
   "execution_count": 98,
   "id": "415a37c4-4d16-4570-9e5c-a421b810eeed",
   "metadata": {},
   "outputs": [
    {
     "data": {
      "text/plain": [
       "(1024,)"
      ]
     },
     "execution_count": 98,
     "metadata": {},
     "output_type": "execute_result"
    }
   ],
   "source": [
    "sent_embed[0]['embed'].shape"
   ]
  },
  {
   "cell_type": "code",
   "execution_count": 99,
   "id": "8721d16a-e173-4b03-ad82-2204bf4dc774",
   "metadata": {},
   "outputs": [],
   "source": [
    "def save_sent_embeddings(path):\n",
    "    sent_ = {}\n",
    "    for i in sent_embed:\n",
    "        sent_[i] = sent_embed[i]\n",
    "        sent_[i]['embed'] = sent_embed[i]['embed'].tolist()\n",
    "    with open(path, 'w') as f:\n",
    "        json.dump(sent_, f)"
   ]
  },
  {
   "cell_type": "code",
   "execution_count": 100,
   "id": "76dc3330-e351-4bf1-ad23-076137c5b045",
   "metadata": {},
   "outputs": [],
   "source": [
    "save_sent_embeddings('sent_embeddings_sign_ESRO.json')"
   ]
  },
  {
   "cell_type": "code",
   "execution_count": 101,
   "id": "491dd4e9-b822-429f-b60d-aadd42b66960",
   "metadata": {},
   "outputs": [],
   "source": [
    "## just load it the next time, already saved at 'sent_embeddings_sign/........'\n",
    "def split_save_sent_embeddings(data_dict, folder_name, file_generic):\n",
    "    l = len(data_dict.keys())\n",
    "    size = int(l*(0.01))\n",
    "    count = 0\n",
    "    temp = {}\n",
    "    ###### to show progress\n",
    "    widgets = [' [', progressbar.Timer(format= 'elapsed time: %(elapsed)s'), '] ', progressbar.Bar('*'),' (', progressbar.ETA(), ') ', ]\n",
    "    bar = progressbar.ProgressBar(max_value=l, widgets=widgets).start()\n",
    "    ###### to show progress\n",
    "    for key in data_dict:\n",
    "        temp[key] = data_dict[key]\n",
    "        if isinstance(data_dict[key]['embed'], np.ndarray):\n",
    "            temp[key]['embed'] = data_dict[key]['embed'].tolist()\n",
    "        else:\n",
    "            temp[key] = data_dict[key]\n",
    "        count += 1\n",
    "        if (count%size == 0):\n",
    "            file_name = folder_name + '/' + file_generic + '_' +  str(count-size) + '_' + str(count) + '.json'\n",
    "            with open(file_name, 'w') as f:\n",
    "                json.dump(temp, f)\n",
    "            temp = {}\n",
    "        bar.update(count)"
   ]
  },
  {
   "cell_type": "code",
   "execution_count": 102,
   "id": "1fd99096-739f-4de6-80a6-bd3eb66b7fa8",
   "metadata": {},
   "outputs": [
    {
     "name": "stderr",
     "output_type": "stream",
     "text": [
      " [elapsed time: 0:00:05] |********************************* | (ETA:   0:00:00) "
     ]
    }
   ],
   "source": [
    "split_save_sent_embeddings(sent_embed, 'FAISS - search/sent_embeddings_sign_ESRO', 'sent_embed')\n",
    "# already saved, load the same as save or save different embeddings"
   ]
  },
  {
   "cell_type": "code",
   "execution_count": 103,
   "id": "4edfaf02-8f57-4064-aaa8-ef17dcd026dc",
   "metadata": {},
   "outputs": [
    {
     "data": {
      "text/plain": [
       "(1024,)"
      ]
     },
     "execution_count": 103,
     "metadata": {},
     "output_type": "execute_result"
    }
   ],
   "source": [
    "np.array(sent_embed[0]['embed']).shape"
   ]
  },
  {
   "cell_type": "code",
   "execution_count": 104,
   "id": "512f93f0-7dac-45c1-8074-4df1314a2c5d",
   "metadata": {},
   "outputs": [],
   "source": [
    "def load_sent_embeddings(path):\n",
    "    global sent_embed\n",
    "    sent_embed = {}\n",
    "    with open(path, 'r') as f:\n",
    "        sent_embed = json.load(f)\n",
    "    l = len(sent_embed.keys())\n",
    "    count = 0\n",
    "    ###### to show progress\n",
    "    widgets = [' [', progressbar.Timer(format= 'elapsed time: %(elapsed)s'), '] ', progressbar.Bar('*'),' (', progressbar.ETA(), ') ', ]\n",
    "    bar = progressbar.ProgressBar(max_value=l, widgets=widgets).start()\n",
    "    ###### to show progress\n",
    "    for i in sent_embed:\n",
    "        # sent_embed[i] = sent_[i]\n",
    "        sent_embed[i]['embed'] = np.asarray(sent_embed[i]['embed'], dtype = 'float32')\n",
    "        count += 1\n",
    "        bar.update(count)"
   ]
  },
  {
   "cell_type": "code",
   "execution_count": 105,
   "id": "fd85c81c-8199-486c-b1a3-7641f4da7820",
   "metadata": {},
   "outputs": [
    {
     "name": "stderr",
     "output_type": "stream",
     "text": [
      " [elapsed time: 0:00:00] |                                  | (ETA:  --:--:--) "
     ]
    }
   ],
   "source": [
    "load_sent_embeddings('sent_embeddings_sign_ESRO.json')"
   ]
  },
  {
   "cell_type": "code",
   "execution_count": 106,
   "id": "52ff14a4-f6ce-4b26-9c00-07fb61fcd138",
   "metadata": {},
   "outputs": [
    {
     "data": {
      "text/plain": [
       "(1024,)"
      ]
     },
     "execution_count": 106,
     "metadata": {},
     "output_type": "execute_result"
    }
   ],
   "source": [
    "np.array(sent_embed['0']['embed']).shape"
   ]
  },
  {
   "cell_type": "code",
   "execution_count": 107,
   "id": "31f3bf67-ccbd-43b0-b7cb-74f5a96a48ca",
   "metadata": {},
   "outputs": [],
   "source": [
    "def load_split_save_sent_embeddings(folder_name):\n",
    "    # global sent_embed\n",
    "    sent_embed = {}\n",
    "    sent = {}\n",
    "    print('reading files')\n",
    "    print(folder_name)\n",
    "    # sys.stdout.flush()\n",
    "    l = len(os.listdir(folder_name))\n",
    "    count = 0\n",
    "    ###### to show progress\n",
    "    # widgets = [' [', progressbar.Timer(format= 'elapsed time: %(elapsed)s'), '] ', progressbar.Bar('*'),' (', progressbar.ETA(), ') ', ]\n",
    "    # bar = progressbar.ProgressBar(max_value=l, widgets=widgets).start()\n",
    "    ###### to show progress\n",
    "    for file in os.listdir(folder_name):\n",
    "        if file == '.ipynb_checkpoints':\n",
    "            continue\n",
    "        print(folder_name + '/' + file)\n",
    "        with open(folder_name + '/' + file, 'r') as f:\n",
    "            sent = {**sent, **json.load(f)}\n",
    "        count += 1\n",
    "        # bar.update(count)\n",
    "    \n",
    "    print('converting list to numpy array')\n",
    "    # sys.stdout.flush()\n",
    "    l = len(sent.keys())\n",
    "    count = 0\n",
    "    ###### to show progress\n",
    "    # widgets = [' [', progressbar.Timer(format= 'elapsed time: %(elapsed)s'), '] ', progressbar.Bar('*'),' (', progressbar.ETA(), ') ', ]\n",
    "    # bar = progressbar.ProgressBar(max_value=l, widgets=widgets).start()\n",
    "    ###### to show progress\n",
    "    for i in sent:\n",
    "        sent_embed[int(i)] = sent[i]\n",
    "        sent_embed[int(i)]['embed'] = np.asarray(sent[i]['embed'], dtype = 'float32')\n",
    "        count += 1\n",
    "        # bar.update(count)\n",
    "    # sys.stdout.flush()\n",
    "    return sent_embed"
   ]
  },
  {
   "cell_type": "code",
   "execution_count": 108,
   "id": "69b7d383-6503-4605-aecb-6e1d14d4eba3",
   "metadata": {
    "collapsed": true,
    "jupyter": {
     "outputs_hidden": true
    },
    "tags": []
   },
   "outputs": [
    {
     "name": "stdout",
     "output_type": "stream",
     "text": [
      "reading files\n",
      "./FAISS - search/sent_embeddings_sign_ESRO\n",
      "./FAISS - search/sent_embeddings_sign_ESRO/sent_embed_52_53.json\n",
      "./FAISS - search/sent_embeddings_sign_ESRO/sent_embed_167_168.json\n",
      "./FAISS - search/sent_embeddings_sign_ESRO/sent_embed_1_2.json\n",
      "./FAISS - search/sent_embeddings_sign_ESRO/sent_embed_124_125.json\n",
      "./FAISS - search/sent_embeddings_sign_ESRO/sent_embed_162_163.json\n",
      "./FAISS - search/sent_embeddings_sign_ESRO/sent_embed_21_22.json\n",
      "./FAISS - search/sent_embeddings_sign_ESRO/sent_embed_50_51.json\n",
      "./FAISS - search/sent_embeddings_sign_ESRO/sent_embed_145_146.json\n",
      "./FAISS - search/sent_embeddings_sign_ESRO/sent_embed_149_150.json\n",
      "./FAISS - search/sent_embeddings_sign_ESRO/sent_embed_77_78.json\n",
      "./FAISS - search/sent_embeddings_sign_ESRO/sent_embed_139_140.json\n",
      "./FAISS - search/sent_embeddings_sign_ESRO/sent_embed_131_132.json\n",
      "./FAISS - search/sent_embeddings_sign_ESRO/sent_embed_56_57.json\n",
      "./FAISS - search/sent_embeddings_sign_ESRO/sent_embed_23_24.json\n",
      "./FAISS - search/sent_embeddings_sign_ESRO/sent_embed_97_98.json\n",
      "./FAISS - search/sent_embeddings_sign_ESRO/sent_embed_103_104.json\n",
      "./FAISS - search/sent_embeddings_sign_ESRO/sent_embed_158_159.json\n",
      "./FAISS - search/sent_embeddings_sign_ESRO/sent_embed_54_55.json\n",
      "./FAISS - search/sent_embeddings_sign_ESRO/sent_embed_116_117.json\n",
      "./FAISS - search/sent_embeddings_sign_ESRO/sent_embed_150_151.json\n",
      "./FAISS - search/sent_embeddings_sign_ESRO/sent_embed_25_26.json\n",
      "./FAISS - search/sent_embeddings_sign_ESRO/sent_embed_95_96.json\n",
      "./FAISS - search/sent_embeddings_sign_ESRO/sent_embed_4_5.json\n",
      "./FAISS - search/sent_embeddings_sign_ESRO/sent_embed_58_59.json\n",
      "./FAISS - search/sent_embeddings_sign_ESRO/sent_embed_155_156.json\n",
      "./FAISS - search/sent_embeddings_sign_ESRO/sent_embed_27_28.json\n",
      "./FAISS - search/sent_embeddings_sign_ESRO/sent_embed_93_94.json\n",
      "./FAISS - search/sent_embeddings_sign_ESRO/sent_embed_177_178.json\n",
      "./FAISS - search/sent_embeddings_sign_ESRO/sent_embed_172_173.json\n",
      "./FAISS - search/sent_embeddings_sign_ESRO/sent_embed_71_72.json\n",
      "./FAISS - search/sent_embeddings_sign_ESRO/sent_embed_134_135.json\n",
      "./FAISS - search/sent_embeddings_sign_ESRO/sent_embed_73_74.json\n",
      "./FAISS - search/sent_embeddings_sign_ESRO/sent_embed_113_114.json\n",
      "./FAISS - search/sent_embeddings_sign_ESRO/sent_embed_91_92.json\n",
      "./FAISS - search/sent_embeddings_sign_ESRO/sent_embed_140_141.json\n",
      "./FAISS - search/sent_embeddings_sign_ESRO/sent_embed_106_107.json\n",
      "./FAISS - search/sent_embeddings_sign_ESRO/sent_embed_148_149.json\n",
      "./FAISS - search/sent_embeddings_sign_ESRO/sent_embed_75_76.json\n",
      "./FAISS - search/sent_embeddings_sign_ESRO/sent_embed_179_180.json\n",
      "./FAISS - search/sent_embeddings_sign_ESRO/sent_embed_19_20.json\n",
      "./FAISS - search/sent_embeddings_sign_ESRO/sent_embed_121_122.json\n",
      "./FAISS - search/sent_embeddings_sign_ESRO/sent_embed_111_112.json\n",
      "./FAISS - search/sent_embeddings_sign_ESRO/sent_embed_63_64.json\n",
      "./FAISS - search/sent_embeddings_sign_ESRO/sent_embed_16_17.json\n",
      "./FAISS - search/sent_embeddings_sign_ESRO/sent_embed_81_82.json\n",
      "./FAISS - search/sent_embeddings_sign_ESRO/sent_embed_65_66.json\n",
      "./FAISS - search/sent_embeddings_sign_ESRO/sent_embed_14_15.json\n",
      "./FAISS - search/sent_embeddings_sign_ESRO/sent_embed_178_179.json\n",
      "./FAISS - search/sent_embeddings_sign_ESRO/sent_embed_136_137.json\n",
      "./FAISS - search/sent_embeddings_sign_ESRO/sent_embed_170_171.json\n",
      "./FAISS - search/sent_embeddings_sign_ESRO/sent_embed_123_124.json\n",
      "./FAISS - search/sent_embeddings_sign_ESRO/sent_embed_9_10.json\n",
      "./FAISS - search/sent_embeddings_sign_ESRO/sent_embed_85_86.json\n",
      "./FAISS - search/sent_embeddings_sign_ESRO/sent_embed_39_40.json\n",
      "./FAISS - search/sent_embeddings_sign_ESRO/sent_embed_104_105.json\n",
      "./FAISS - search/sent_embeddings_sign_ESRO/sent_embed_142_143.json\n",
      "./FAISS - search/sent_embeddings_sign_ESRO/sent_embed_180_181.json\n",
      "./FAISS - search/sent_embeddings_sign_ESRO/sent_embed_48_49.json\n",
      "./FAISS - search/sent_embeddings_sign_ESRO/sent_embed_12_13.json\n",
      "./FAISS - search/sent_embeddings_sign_ESRO/sent_embed_147_148.json\n",
      "./FAISS - search/sent_embeddings_sign_ESRO/sent_embed_37_38.json\n",
      "./FAISS - search/sent_embeddings_sign_ESRO/sent_embed_83_84.json\n",
      "./FAISS - search/sent_embeddings_sign_ESRO/sent_embed_165_166.json\n",
      "./FAISS - search/sent_embeddings_sign_ESRO/sent_embed_169_170.json\n",
      "./FAISS - search/sent_embeddings_sign_ESRO/sent_embed_5_6.json\n",
      "./FAISS - search/sent_embeddings_sign_ESRO/sent_embed_49_50.json\n",
      "./FAISS - search/sent_embeddings_sign_ESRO/sent_embed_10_11.json\n",
      "./FAISS - search/sent_embeddings_sign_ESRO/sent_embed_61_62.json\n",
      "./FAISS - search/sent_embeddings_sign_ESRO/sent_embed_160_161.json\n",
      "./FAISS - search/sent_embeddings_sign_ESRO/sent_embed_126_127.json\n",
      "./FAISS - search/sent_embeddings_sign_ESRO/sent_embed_159_160.json\n",
      "./FAISS - search/sent_embeddings_sign_ESRO/sent_embed_168_169.json\n",
      "./FAISS - search/sent_embeddings_sign_ESRO/sent_embed_46_47.json\n",
      "./FAISS - search/sent_embeddings_sign_ESRO/sent_embed_33_34.json\n",
      "./FAISS - search/sent_embeddings_sign_ESRO/sent_embed_87_88.json\n",
      "./FAISS - search/sent_embeddings_sign_ESRO/sent_embed_133_134.json\n",
      "./FAISS - search/sent_embeddings_sign_ESRO/sent_embed_101_102.json\n",
      "./FAISS - search/sent_embeddings_sign_ESRO/sent_embed_44_45.json\n",
      "./FAISS - search/sent_embeddings_sign_ESRO/sent_embed_35_36.json\n",
      "./FAISS - search/sent_embeddings_sign_ESRO/sent_embed_59_60.json\n",
      "./FAISS - search/sent_embeddings_sign_ESRO/sent_embed_42_43.json\n",
      "./FAISS - search/sent_embeddings_sign_ESRO/sent_embed_18_19.json\n",
      "./FAISS - search/sent_embeddings_sign_ESRO/sent_embed_175_176.json\n",
      "./FAISS - search/sent_embeddings_sign_ESRO/sent_embed_152_153.json\n",
      "./FAISS - search/sent_embeddings_sign_ESRO/sent_embed_31_32.json\n",
      "./FAISS - search/sent_embeddings_sign_ESRO/sent_embed_114_115.json\n",
      "./FAISS - search/sent_embeddings_sign_ESRO/sent_embed_0_1.json\n",
      "./FAISS - search/sent_embeddings_sign_ESRO/sent_embed_40_41.json\n",
      "./FAISS - search/sent_embeddings_sign_ESRO/sent_embed_157_158.json\n",
      "./FAISS - search/sent_embeddings_sign_ESRO/sent_embed_67_68.json\n",
      "./FAISS - search/sent_embeddings_sign_ESRO/sent_embed_80_81.json\n",
      "./FAISS - search/sent_embeddings_sign_ESRO/sent_embed_132_133.json\n",
      "./FAISS - search/sent_embeddings_sign_ESRO/sent_embed_174_175.json\n",
      "./FAISS - search/sent_embeddings_sign_ESRO/sent_embed_79_80.json\n",
      "./FAISS - search/sent_embeddings_sign_ESRO/sent_embed_7_8.json\n",
      "./FAISS - search/sent_embeddings_sign_ESRO/sent_embed_66_67.json\n",
      "./FAISS - search/sent_embeddings_sign_ESRO/sent_embed_13_14.json\n",
      "./FAISS - search/sent_embeddings_sign_ESRO/sent_embed_137_138.json\n",
      "./FAISS - search/sent_embeddings_sign_ESRO/sent_embed_115_116.json\n",
      "./FAISS - search/sent_embeddings_sign_ESRO/sent_embed_82_83.json\n",
      "./FAISS - search/sent_embeddings_sign_ESRO/sent_embed_15_16.json\n",
      "./FAISS - search/sent_embeddings_sign_ESRO/sent_embed_64_65.json\n",
      "./FAISS - search/sent_embeddings_sign_ESRO/sent_embed_38_39.json\n",
      "./FAISS - search/sent_embeddings_sign_ESRO/sent_embed_161_162.json\n",
      "./FAISS - search/sent_embeddings_sign_ESRO/sent_embed_62_63.json\n",
      "./FAISS - search/sent_embeddings_sign_ESRO/sent_embed_99_100.json\n",
      "./FAISS - search/sent_embeddings_sign_ESRO/sent_embed_84_85.json\n",
      "./FAISS - search/sent_embeddings_sign_ESRO/sent_embed_60_61.json\n",
      "./FAISS - search/sent_embeddings_sign_ESRO/sent_embed_108_109.json\n",
      "./FAISS - search/sent_embeddings_sign_ESRO/sent_embed_11_12.json\n",
      "./FAISS - search/sent_embeddings_sign_ESRO/sent_embed_100_101.json\n",
      "./FAISS - search/sent_embeddings_sign_ESRO/sent_embed_146_147.json\n",
      "./FAISS - search/sent_embeddings_sign_ESRO/sent_embed_153_154.json\n",
      "./FAISS - search/sent_embeddings_sign_ESRO/sent_embed_2_3.json\n",
      "./FAISS - search/sent_embeddings_sign_ESRO/sent_embed_86_87.json\n",
      "./FAISS - search/sent_embeddings_sign_ESRO/sent_embed_47_48.json\n",
      "./FAISS - search/sent_embeddings_sign_ESRO/sent_embed_89_90.json\n",
      "./FAISS - search/sent_embeddings_sign_ESRO/sent_embed_181_182.json\n",
      "./FAISS - search/sent_embeddings_sign_ESRO/sent_embed_105_106.json\n",
      "./FAISS - search/sent_embeddings_sign_ESRO/sent_embed_109_110.json\n",
      "./FAISS - search/sent_embeddings_sign_ESRO/sent_embed_43_44.json\n",
      "./FAISS - search/sent_embeddings_sign_ESRO/sent_embed_36_37.json\n",
      "./FAISS - search/sent_embeddings_sign_ESRO/sent_embed_34_35.json\n",
      "./FAISS - search/sent_embeddings_sign_ESRO/sent_embed_164_165.json\n",
      "./FAISS - search/sent_embeddings_sign_ESRO/sent_embed_122_123.json\n",
      "./FAISS - search/sent_embeddings_sign_ESRO/sent_embed_45_46.json\n",
      "./FAISS - search/sent_embeddings_sign_ESRO/sent_embed_127_128.json\n",
      "./FAISS - search/sent_embeddings_sign_ESRO/sent_embed_88_89.json\n",
      "./FAISS - search/sent_embeddings_sign_ESRO/sent_embed_156_157.json\n",
      "./FAISS - search/sent_embeddings_sign_ESRO/sent_embed_110_111.json\n",
      "./FAISS - search/sent_embeddings_sign_ESRO/sent_embed_118_119.json\n",
      "./FAISS - search/sent_embeddings_sign_ESRO/sent_embed_32_33.json\n",
      "./FAISS - search/sent_embeddings_sign_ESRO/sent_embed_68_69.json\n",
      "./FAISS - search/sent_embeddings_sign_ESRO/sent_embed_143_144.json\n",
      "./FAISS - search/sent_embeddings_sign_ESRO/sent_embed_69_70.json\n",
      "./FAISS - search/sent_embeddings_sign_ESRO/sent_embed_171_172.json\n",
      "./FAISS - search/sent_embeddings_sign_ESRO/sent_embed_17_18.json\n",
      "./FAISS - search/sent_embeddings_sign_ESRO/sent_embed_41_42.json\n",
      "./FAISS - search/sent_embeddings_sign_ESRO/sent_embed_30_31.json\n",
      "./FAISS - search/sent_embeddings_sign_ESRO/sent_embed_22_23.json\n",
      "./FAISS - search/sent_embeddings_sign_ESRO/sent_embed_78_79.json\n",
      "./FAISS - search/sent_embeddings_sign_ESRO/sent_embed_6_7.json\n",
      "./FAISS - search/sent_embeddings_sign_ESRO/sent_embed_141_142.json\n",
      "./FAISS - search/sent_embeddings_sign_ESRO/sent_embed_173_174.json\n",
      "./FAISS - search/sent_embeddings_sign_ESRO/sent_embed_128_129.json\n",
      "./FAISS - search/sent_embeddings_sign_ESRO/sent_embed_120_121.json\n",
      "./FAISS - search/sent_embeddings_sign_ESRO/sent_embed_166_167.json\n",
      "./FAISS - search/sent_embeddings_sign_ESRO/sent_embed_51_52.json\n",
      "./FAISS - search/sent_embeddings_sign_ESRO/sent_embed_119_120.json\n",
      "./FAISS - search/sent_embeddings_sign_ESRO/sent_embed_20_21.json\n",
      "./FAISS - search/sent_embeddings_sign_ESRO/sent_embed_8_9.json\n",
      "./FAISS - search/sent_embeddings_sign_ESRO/sent_embed_117_118.json\n",
      "./FAISS - search/sent_embeddings_sign_ESRO/sent_embed_53_54.json\n",
      "./FAISS - search/sent_embeddings_sign_ESRO/sent_embed_26_27.json\n",
      "./FAISS - search/sent_embeddings_sign_ESRO/sent_embed_112_113.json\n",
      "./FAISS - search/sent_embeddings_sign_ESRO/sent_embed_154_155.json\n",
      "./FAISS - search/sent_embeddings_sign_ESRO/sent_embed_24_25.json\n",
      "./FAISS - search/sent_embeddings_sign_ESRO/sent_embed_55_56.json\n",
      "./FAISS - search/sent_embeddings_sign_ESRO/sent_embed_135_136.json\n",
      "./FAISS - search/sent_embeddings_sign_ESRO/sent_embed_98_99.json\n",
      "./FAISS - search/sent_embeddings_sign_ESRO/sent_embed_163_164.json\n",
      "./FAISS - search/sent_embeddings_sign_ESRO/sent_embed_28_29.json\n",
      "./FAISS - search/sent_embeddings_sign_ESRO/sent_embed_72_73.json\n",
      "./FAISS - search/sent_embeddings_sign_ESRO/sent_embed_176_177.json\n",
      "./FAISS - search/sent_embeddings_sign_ESRO/sent_embed_130_131.json\n",
      "./FAISS - search/sent_embeddings_sign_ESRO/sent_embed_138_139.json\n",
      "./FAISS - search/sent_embeddings_sign_ESRO/sent_embed_94_95.json\n",
      "./FAISS - search/sent_embeddings_sign_ESRO/sent_embed_70_71.json\n",
      "./FAISS - search/sent_embeddings_sign_ESRO/sent_embed_96_97.json\n",
      "./FAISS - search/sent_embeddings_sign_ESRO/sent_embed_57_58.json\n",
      "./FAISS - search/sent_embeddings_sign_ESRO/sent_embed_151_152.json\n",
      "./FAISS - search/sent_embeddings_sign_ESRO/sent_embed_29_30.json\n",
      "./FAISS - search/sent_embeddings_sign_ESRO/sent_embed_90_91.json\n",
      "./FAISS - search/sent_embeddings_sign_ESRO/sent_embed_3_4.json\n",
      "./FAISS - search/sent_embeddings_sign_ESRO/sent_embed_76_77.json\n",
      "./FAISS - search/sent_embeddings_sign_ESRO/sent_embed_125_126.json\n",
      "./FAISS - search/sent_embeddings_sign_ESRO/sent_embed_129_130.json\n",
      "./FAISS - search/sent_embeddings_sign_ESRO/sent_embed_107_108.json\n",
      "./FAISS - search/sent_embeddings_sign_ESRO/sent_embed_92_93.json\n",
      "./FAISS - search/sent_embeddings_sign_ESRO/sent_embed_74_75.json\n",
      "./FAISS - search/sent_embeddings_sign_ESRO/sent_embed_144_145.json\n",
      "./FAISS - search/sent_embeddings_sign_ESRO/sent_embed_102_103.json\n",
      "converting list to numpy array\n"
     ]
    }
   ],
   "source": [
    "## just run this line to load already calculated sentence embeddings in the directory sent_embed\n",
    "sent_embed_sign = load_split_save_sent_embeddings('./FAISS - search/sent_embeddings_sign_ESRO')\n",
    "# sent_embed_dc = load_split_save_sent_embeddings('./FAISS - search/sent_embeddings_dc')"
   ]
  },
  {
   "cell_type": "code",
   "execution_count": 109,
   "id": "7d5b4158-5778-45e6-a999-1794a4948dbc",
   "metadata": {},
   "outputs": [
    {
     "data": {
      "text/plain": [
       "(1024,)"
      ]
     },
     "execution_count": 109,
     "metadata": {},
     "output_type": "execute_result"
    }
   ],
   "source": [
    "np.array(sent_embed['0']['embed']).shape"
   ]
  },
  {
   "cell_type": "code",
   "execution_count": 110,
   "id": "98ac15a9-8675-4045-9784-ddcee93439c3",
   "metadata": {},
   "outputs": [
    {
     "data": {
      "text/plain": [
       "(1024,)"
      ]
     },
     "execution_count": 110,
     "metadata": {},
     "output_type": "execute_result"
    }
   ],
   "source": [
    "sent_embed_sign[0]['embed'].shape"
   ]
  },
  {
   "cell_type": "code",
   "execution_count": 111,
   "id": "5698278c-68b6-41dc-8d7c-1ed2e094b140",
   "metadata": {},
   "outputs": [
    {
     "data": {
      "text/plain": [
       "{'cso': 17536,\n",
       " 'sent': 'The Adobe Sign Customized Email Template (CEMT) microservice experienced a service outage between 2022-05-25 at 22:55 UTC and 2022- 05-26 at 21:19 UTC. Four enterprise users (NCR Corporation, Humana, HPE, and WarnerMedia) filed support tickets with Customer Experience. CEMT shares the IP address with the Business Intelligence engine, which inadvertently tripped a protection feature in APO, which locked it out.',\n",
       " 'embed': array([ 0.0999089 , -0.04202587, -0.3661461 , ...,  0.04501874,\n",
       "         0.07975553, -0.02031409], dtype=float32),\n",
       " 'tag': 'symptom'}"
      ]
     },
     "execution_count": 111,
     "metadata": {},
     "output_type": "execute_result"
    }
   ],
   "source": [
    "sent_embed_sign[0]"
   ]
  },
  {
   "cell_type": "markdown",
   "id": "cc142584-a83c-4a18-913d-726cddae9c5d",
   "metadata": {},
   "source": [
    "#### 2 ) building the Index "
   ]
  },
  {
   "cell_type": "code",
   "execution_count": 112,
   "id": "0fa9fa42-a187-4107-b385-5f913bb8f274",
   "metadata": {},
   "outputs": [],
   "source": [
    "def create_numpy_array(s):\n",
    "    nb = len(s.keys())\n",
    "    xb = []\n",
    "    for i, k in enumerate(s.keys()):\n",
    "        xb.append(s[k]['embed'])\n",
    "        \n",
    "    return np.array(xb)"
   ]
  },
  {
   "cell_type": "code",
   "execution_count": 113,
   "id": "20bebac1-a09d-4558-bc7c-c5dae87cd06e",
   "metadata": {},
   "outputs": [],
   "source": [
    "xb = create_numpy_array(sent_embed_sign)"
   ]
  },
  {
   "cell_type": "code",
   "execution_count": 114,
   "id": "edf72dc3-9ff4-4060-9caf-2ecb75a2dae1",
   "metadata": {},
   "outputs": [
    {
     "data": {
      "text/plain": [
       "(182, 1024)"
      ]
     },
     "execution_count": 114,
     "metadata": {},
     "output_type": "execute_result"
    }
   ],
   "source": [
    "xb.shape"
   ]
  },
  {
   "cell_type": "code",
   "execution_count": 115,
   "id": "a4d161c8-b80b-4958-a806-b3538ef7d444",
   "metadata": {},
   "outputs": [],
   "source": [
    "def normalize(xb):\n",
    "    global xb_normalized\n",
    "    xb_normalized = deepcopy(xb)\n",
    "    faiss.normalize_L2(xb_normalized)\n",
    "    \n",
    "normalize(xb)"
   ]
  },
  {
   "cell_type": "code",
   "execution_count": 116,
   "id": "3a156d05-3376-45eb-9cf9-70c187b08f51",
   "metadata": {},
   "outputs": [],
   "source": [
    "d = 1024\n",
    "Index_L2 = faiss.IndexFlatL2(d)\n",
    "Index_IP = faiss.IndexFlatIP(d)\n",
    "\n",
    "\n",
    "Index_L2.add(xb)\n",
    "Index_IP.add(xb_normalized)"
   ]
  },
  {
   "cell_type": "code",
   "execution_count": 117,
   "id": "c5165e14-ebd6-4000-809c-c2be357e2c4c",
   "metadata": {},
   "outputs": [],
   "source": [
    "def find_top_k_similar(xq, k, basis = 'both'):\n",
    "    xq_normalized = deepcopy(xq)\n",
    "    faiss.normalize_L2(xq_normalized)\n",
    "    \n",
    "    D_L2, I_L2 = Index_L2.search(xq, k)\n",
    "    D_IP, I_IP = Index_IP.search(xq_normalized, k)\n",
    "    if basis == 'L2':\n",
    "        return D_L2, I_L2\n",
    "    if basis == 'IP':\n",
    "        return D_IP, I_IP\n",
    "    return D_L2, I_L2, D_IP, I_IP"
   ]
  },
  {
   "cell_type": "code",
   "execution_count": 120,
   "id": "2a60afd6-9dd3-48dc-a743-2abc3af3d54f",
   "metadata": {},
   "outputs": [],
   "source": [
    "def rank_cso(query):\n",
    "    # split the query into sentences\n",
    "    # assuming text input\n",
    "    \n",
    "    ranked_cso_dict = dict()\n",
    "    \n",
    "    input_ids = torch.tensor(tokenizer.encode(query, add_special_tokens=True)).unsqueeze(0)\n",
    "    with torch.no_grad():\n",
    "        outputs = model(input_ids)\n",
    "        last_hidden_states = outputs[0]\n",
    "\n",
    "    token_embeddings = torch.squeeze(last_hidden_states, dim=0)\n",
    "    sentence_embed = torch.mean(token_embeddings, axis=0).numpy().reshape(1,-1)\n",
    "    k = 12\n",
    "#     nq = len(list_of_sent)\n",
    "#     xq = np.zeros((nq, d), dtype = 'float32')\n",
    "    \n",
    "#     for i, sent in enumerate(list_of_sent):\n",
    "#         sent_embedding = get_embedding(sent).reshape((1,-1))\n",
    "#         xq[i,:] = sent_embedding\n",
    "        \n",
    "    # print(xq.shape)\n",
    "    D_IP, I_IP = find_top_k_similar(sentence_embed, k, 'IP')  ## shape (nq, k)\n",
    "    # print(D_IP)\n",
    "    for i in range(1):\n",
    "        for j in range(k):\n",
    "            cso_sent_dict = sent_embed_sign[I_IP[i,j]]\n",
    "            \n",
    "            if cso_sent_dict['cso'] in ranked_cso_dict.keys():\n",
    "                ranked_cso_dict[cso_sent_dict['cso']]['score'] += D_IP[i, j]\n",
    "                ranked_cso_dict[cso_sent_dict['cso']]['sent'].append(cso_sent_dict['sent'])\n",
    "            else:\n",
    "                temp = {'score': D_IP[i, j], 'cso':cso_sent_dict['cso'], 'sent': [cso_sent_dict['sent']]}\n",
    "                ranked_cso_dict[cso_sent_dict['cso']] = temp\n",
    "    \n",
    "    # print(ranked_cso_dict.items())\n",
    "    return dict(sorted(ranked_cso_dict.items(), key=lambda x: x[1]['score'], reverse=True))"
   ]
  },
  {
   "cell_type": "code",
   "execution_count": 121,
   "id": "8427436c-857e-4a95-84b3-9ca6b3274178",
   "metadata": {},
   "outputs": [
    {
     "data": {
      "text/plain": [
       "{14452: {'score': 0.9972952,\n",
       "  'cso': 14452,\n",
       "  'sent': ['Some API calls to Adobe Sign integration API calls in the AU1 region failed on May 11th between 01:35 UTC and 02:02 UTC. The CSO was automatically launched for the alarm \"Adobe_Sign_Secure_Login_AU1\". The Adobe sign team quickly joined the call and restored the previous certificates on the apache servers in AU1.']},\n",
       " 15934: {'score': 0.9970032,\n",
       "  'cso': 15934,\n",
       "  'sent': ['On 2021-11-15, multiple Identity client services experienced various levels of impact as they were unable to log in or receive errors. Over 800 customers contacted Adobe Support to report issues with various products and services. The most recent changes made were some rate-limiting config changes made about 7 hours before the CSO launched and a deployment performed on Friday 2021/11-12 were rolled back. The capacity of the Identity instances was doubled.']},\n",
       " 6065: {'score': 0.9969669,\n",
       "  'cso': 6065,\n",
       "  'sent': ['On 02/10/2018, between 5:44AM PT and 5:56AM PT, the service encountered two 1 minute intervals of possible login issues.']},\n",
       " 6524: {'score': 0.9969669,\n",
       "  'cso': 6524,\n",
       "  'sent': ['Cache 5 server went out of service between 00:56 AM PT and 01:01 AM PT. The issue was fixed in a few minutes.']},\n",
       " 6577: {'score': 0.9969669, 'cso': 6577, 'sent': ['There are none.']},\n",
       " 15873: {'score': 0.9969669,\n",
       "  'cso': 15873,\n",
       "  'sent': ['On 10-10-28, Adobe Sign experienced issues with the agreement creation process. The CSO was launched at the request of Adobe Sign engineers after seeing increasing synthetic transaction failures in NA2 and elevated response times. The root cause of the issue was an agreement that had an excessive number of shares for the agreement.']},\n",
       " 6419: {'score': 0.9968875,\n",
       "  'cso': 6419,\n",
       "  'sent': ['GLOBAL_TRIAL channel users were unable to send outbound email. This was caused by a settings configuration issue.']},\n",
       " 9206: {'score': 0.9968534,\n",
       "  'cso': 9206,\n",
       "  'sent': ['There was an outage on 7/11/2019 between 10:00 PM and 12:24 PM PT for the Japan locale and between 10 PM for the Australia locale. Adobe Sign customers were not able to use the email address auto-complete function when sending an agreement. The outage was caused by incorrect AWS security group rules which blocked network traffic to the Address Book microservice.']},\n",
       " 17401: {'score': 0.99668425,\n",
       "  'cso': 17401,\n",
       "  'sent': ['Some Adobe Sign users might have been unable to log in to the Adobe Sign site or encountered delays in document signing. The CSO was auto-launched for failures reaching https://secure.na2.echosign.com/public/login. The incident happened during a planned DB maintenance.']},\n",
       " 8653: {'score': 0.9964944,\n",
       "  'cso': 8653,\n",
       "  'sent': ['All Microservices in the NA3 region were experiencing high error rates through the Sign monolith for the VA7 (Azure) region. The cause was a credential token issue between Avi and Azure.']},\n",
       " 11379: {'score': 0.9964944,\n",
       "  'cso': 11379,\n",
       "  'sent': ['On 5/12/2020, between 6:21 AM and 6:28 AM PT, some services that depend on Renga for authentication may have experienced various degrees of impact related to the login process. On 5/27/ 2020, between 7:29 AM and 1:20 PM PT, all Adobe customers trying to access Experience Cloud, Creative Cloud or Document Cloud services could have experienced login issues. On 6/17/2020 some services experienced longer than normal response times. The root cause was a log4j bug.']},\n",
       " 14932: {'score': 0.9963697,\n",
       "  'cso': 14932,\n",
       "  'sent': ['Microsoft Office365 Provider microservice exposes multiple REST endpoints that will be consumed by the Adobe Sign app for Microsoft Outlook, Word, PPT and Teams. On July 15th between 19:04 and 22:10 UTC, Outlook/WEP users of the O365 integration were unable to sign in to Adobe Sign. There was a bug in a change that went undetected through unit tests, relay tests, and manual testing in the deploy process. The Flying Squirrels team performed a rollback of the change to resolve the issue.']}}"
      ]
     },
     "execution_count": 121,
     "metadata": {},
     "output_type": "execute_result"
    }
   ],
   "source": [
    "query = 'Adobe Sign users in India are facing errors trying to log in. If they login somehow, it is taking too long to get their documents signed.'\n",
    "ans_dict = rank_cso(query)\n",
    "ans_dict"
   ]
  },
  {
   "cell_type": "code",
   "execution_count": null,
   "id": "71b434c2-1928-4a05-94cd-bd3fa1046249",
   "metadata": {},
   "outputs": [],
   "source": []
  }
 ],
 "metadata": {
  "kernelspec": {
   "display_name": "Python 3",
   "language": "python",
   "name": "python3"
  },
  "language_info": {
   "codemirror_mode": {
    "name": "ipython",
    "version": 3
   },
   "file_extension": ".py",
   "mimetype": "text/x-python",
   "name": "python",
   "nbconvert_exporter": "python",
   "pygments_lexer": "ipython3",
   "version": "3.8.12"
  }
 },
 "nbformat": 4,
 "nbformat_minor": 5
}
